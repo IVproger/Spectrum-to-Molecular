{
 "cells": [
  {
   "cell_type": "code",
   "execution_count": 1,
   "metadata": {},
   "outputs": [],
   "source": [
    "import sys\n",
    "import os\n",
    "\n",
    "parent_dir = os.path.abspath(os.path.join('../..'))\n",
    "if parent_dir not in sys.path:\n",
    "    sys.path.append(parent_dir)"
   ]
  },
  {
   "cell_type": "code",
   "execution_count": 2,
   "metadata": {},
   "outputs": [],
   "source": [
    "from src.utils import process_mgf_file, process_smiles_dataframe, extract_casmi_spectra\n",
    "from tqdm import tqdm\n",
    "import pandas as pd"
   ]
  },
  {
   "cell_type": "code",
   "execution_count": 3,
   "metadata": {},
   "outputs": [],
   "source": [
    "mgf_file = '../../data/raw/casmi22/CASMI_processed.mgf'\n",
    "casmi_labels_file = '../../data/raw/casmi22/CASMI_labels.tsv'"
   ]
  },
  {
   "cell_type": "code",
   "execution_count": 4,
   "metadata": {},
   "outputs": [
    {
     "name": "stderr",
     "output_type": "stream",
     "text": [
      "Parsing blocks:   0%|          | 0/304 [00:00<?, ?it/s]"
     ]
    },
    {
     "name": "stderr",
     "output_type": "stream",
     "text": [
      "Parsing blocks: 100%|██████████| 304/304 [00:00<00:00, 19207.18it/s]\n"
     ]
    }
   ],
   "source": [
    "result = process_mgf_file(mgf_file)"
   ]
  },
  {
   "cell_type": "code",
   "execution_count": 5,
   "metadata": {},
   "outputs": [
    {
     "name": "stderr",
     "output_type": "stream",
     "text": [
      "Parsing blocks: 100%|██████████| 304/304 [00:00<00:00, 19055.05it/s]\n"
     ]
    }
   ],
   "source": [
    "df = extract_casmi_spectra(casmi_labels_file,mgf_file)"
   ]
  },
  {
   "cell_type": "code",
   "execution_count": 6,
   "metadata": {},
   "outputs": [],
   "source": [
    "columns_drop = [\n",
    "    'dataset',\n",
    "    'name',\n",
    "    'inchikey',\n",
    "    'instrument',\n",
    "    'formula'\n",
    "]\n",
    "\n",
    "df = df.drop(columns_drop, axis=1,errors='ignore')"
   ]
  },
  {
   "cell_type": "code",
   "execution_count": 7,
   "metadata": {},
   "outputs": [
    {
     "data": {
      "text/html": [
       "<div>\n",
       "<style scoped>\n",
       "    .dataframe tbody tr th:only-of-type {\n",
       "        vertical-align: middle;\n",
       "    }\n",
       "\n",
       "    .dataframe tbody tr th {\n",
       "        vertical-align: top;\n",
       "    }\n",
       "\n",
       "    .dataframe thead th {\n",
       "        text-align: right;\n",
       "    }\n",
       "</style>\n",
       "<table border=\"1\" class=\"dataframe\">\n",
       "  <thead>\n",
       "    <tr style=\"text-align: right;\">\n",
       "      <th></th>\n",
       "      <th>spec</th>\n",
       "      <th>ionization</th>\n",
       "      <th>smiles</th>\n",
       "      <th>spectral_data</th>\n",
       "    </tr>\n",
       "  </thead>\n",
       "  <tbody>\n",
       "    <tr>\n",
       "      <th>0</th>\n",
       "      <td>3</td>\n",
       "      <td>[M+H]+</td>\n",
       "      <td>CC1C(C(C(C(O1)OC2=C(OC3=C(C(=CC(=C3C2=O)O)O)CC...</td>\n",
       "      <td>{'mz': [50.5921, 50.651, 51.1588, 51.7146, 51....</td>\n",
       "    </tr>\n",
       "    <tr>\n",
       "      <th>1</th>\n",
       "      <td>4</td>\n",
       "      <td>[M+Na]+</td>\n",
       "      <td>CC(C)CC(C(=O)O)NC(=O)C(C(C)C)OC(=O)C(C(C)C)NC(...</td>\n",
       "      <td>{'mz': [51.0578, 51.9172, 51.9195, 51.9476, 52...</td>\n",
       "    </tr>\n",
       "    <tr>\n",
       "      <th>2</th>\n",
       "      <td>5</td>\n",
       "      <td>[M+Na]+</td>\n",
       "      <td>CC1CC2(C(C1O)C=C(C(CC3C(C3(C)C)C=C(C2=O)C)OC(=...</td>\n",
       "      <td>{'mz': [51.2449, 53.0387, 55.0545, 57.0696, 67...</td>\n",
       "    </tr>\n",
       "    <tr>\n",
       "      <th>3</th>\n",
       "      <td>6</td>\n",
       "      <td>[M+NH4]+</td>\n",
       "      <td>CC1C(C(C(C(O1)OC2C(OC(C(C2O)O)OCC3C(C(C(C(O3)O...</td>\n",
       "      <td>{'mz': [79.0542, 81.0287, 81.0335, 81.0698, 81...</td>\n",
       "    </tr>\n",
       "    <tr>\n",
       "      <th>4</th>\n",
       "      <td>9</td>\n",
       "      <td>[M+H]+</td>\n",
       "      <td>CN(C)CCC1=CNC2=C1C=C(C=C2)CS(=O)(=O)N3CCCC3</td>\n",
       "      <td>{'mz': [50.2834, 56.0497, 57.0577, 58.058, 58....</td>\n",
       "    </tr>\n",
       "    <tr>\n",
       "      <th>...</th>\n",
       "      <td>...</td>\n",
       "      <td>...</td>\n",
       "      <td>...</td>\n",
       "      <td>...</td>\n",
       "    </tr>\n",
       "    <tr>\n",
       "      <th>299</th>\n",
       "      <td>492</td>\n",
       "      <td>[M+NH4]+</td>\n",
       "      <td>CC1CCC(C2(C1=CC(CC2)C(=C)C(=O)O)C)OC3C(C(C(C(O...</td>\n",
       "      <td>{'mz': [50.4192, 52.9216, 74.1355, 75.7308, 76...</td>\n",
       "    </tr>\n",
       "    <tr>\n",
       "      <th>300</th>\n",
       "      <td>493</td>\n",
       "      <td>[M+NH4]+</td>\n",
       "      <td>CC=CC1=CC(=C(C(=C1)OC)OC(C)C(C2=CC(=C(C(=C2)OC...</td>\n",
       "      <td>{'mz': [53.0389, 55.0181, 55.3369, 56.3095, 57...</td>\n",
       "    </tr>\n",
       "    <tr>\n",
       "      <th>301</th>\n",
       "      <td>494</td>\n",
       "      <td>[M+NH4]+</td>\n",
       "      <td>COC(=O)C=CC1=CC=C(C=C1)OC2C(C(C(C(O2)CO)O)O)O</td>\n",
       "      <td>{'mz': [50.4232, 51.3694, 52.1419, 52.6558, 53...</td>\n",
       "    </tr>\n",
       "    <tr>\n",
       "      <th>302</th>\n",
       "      <td>495</td>\n",
       "      <td>[M+NH4]+</td>\n",
       "      <td>COC1=C2C(=CC(=C1OC3C(C(C(C(O3)CO)O)O)OC4C(C(C(...</td>\n",
       "      <td>{'mz': [51.2225, 51.5258, 53.0388, 54.5814, 56...</td>\n",
       "    </tr>\n",
       "    <tr>\n",
       "      <th>303</th>\n",
       "      <td>500</td>\n",
       "      <td>[M+H]+</td>\n",
       "      <td>C1C(COC2=C1C=CC(=C2)O)C3=CC=C(C=C3)O</td>\n",
       "      <td>{'mz': [50.6085, 55.0182, 56.4619, 56.882, 63....</td>\n",
       "    </tr>\n",
       "  </tbody>\n",
       "</table>\n",
       "<p>304 rows × 4 columns</p>\n",
       "</div>"
      ],
      "text/plain": [
       "     spec ionization                                             smiles  \\\n",
       "0       3     [M+H]+  CC1C(C(C(C(O1)OC2=C(OC3=C(C(=CC(=C3C2=O)O)O)CC...   \n",
       "1       4    [M+Na]+  CC(C)CC(C(=O)O)NC(=O)C(C(C)C)OC(=O)C(C(C)C)NC(...   \n",
       "2       5    [M+Na]+  CC1CC2(C(C1O)C=C(C(CC3C(C3(C)C)C=C(C2=O)C)OC(=...   \n",
       "3       6   [M+NH4]+  CC1C(C(C(C(O1)OC2C(OC(C(C2O)O)OCC3C(C(C(C(O3)O...   \n",
       "4       9     [M+H]+        CN(C)CCC1=CNC2=C1C=C(C=C2)CS(=O)(=O)N3CCCC3   \n",
       "..    ...        ...                                                ...   \n",
       "299   492   [M+NH4]+  CC1CCC(C2(C1=CC(CC2)C(=C)C(=O)O)C)OC3C(C(C(C(O...   \n",
       "300   493   [M+NH4]+  CC=CC1=CC(=C(C(=C1)OC)OC(C)C(C2=CC(=C(C(=C2)OC...   \n",
       "301   494   [M+NH4]+      COC(=O)C=CC1=CC=C(C=C1)OC2C(C(C(C(O2)CO)O)O)O   \n",
       "302   495   [M+NH4]+  COC1=C2C(=CC(=C1OC3C(C(C(C(O3)CO)O)O)OC4C(C(C(...   \n",
       "303   500     [M+H]+               C1C(COC2=C1C=CC(=C2)O)C3=CC=C(C=C3)O   \n",
       "\n",
       "                                         spectral_data  \n",
       "0    {'mz': [50.5921, 50.651, 51.1588, 51.7146, 51....  \n",
       "1    {'mz': [51.0578, 51.9172, 51.9195, 51.9476, 52...  \n",
       "2    {'mz': [51.2449, 53.0387, 55.0545, 57.0696, 67...  \n",
       "3    {'mz': [79.0542, 81.0287, 81.0335, 81.0698, 81...  \n",
       "4    {'mz': [50.2834, 56.0497, 57.0577, 58.058, 58....  \n",
       "..                                                 ...  \n",
       "299  {'mz': [50.4192, 52.9216, 74.1355, 75.7308, 76...  \n",
       "300  {'mz': [53.0389, 55.0181, 55.3369, 56.3095, 57...  \n",
       "301  {'mz': [50.4232, 51.3694, 52.1419, 52.6558, 53...  \n",
       "302  {'mz': [51.2225, 51.5258, 53.0388, 54.5814, 56...  \n",
       "303  {'mz': [50.6085, 55.0182, 56.4619, 56.882, 63....  \n",
       "\n",
       "[304 rows x 4 columns]"
      ]
     },
     "execution_count": 7,
     "metadata": {},
     "output_type": "execute_result"
    }
   ],
   "source": [
    "df"
   ]
  },
  {
   "cell_type": "code",
   "execution_count": 8,
   "metadata": {},
   "outputs": [
    {
     "name": "stdout",
     "output_type": "stream",
     "text": [
      "Extracting SMILES from dataframe\n",
      "Processing 304 SMILES strings using 128 processes...\n"
     ]
    },
    {
     "name": "stderr",
     "output_type": "stream",
     "text": [
      "Processing SMILES: 100%|██████████| 304/304 [00:00<00:00, 10047.42it/s]"
     ]
    },
    {
     "name": "stdout",
     "output_type": "stream",
     "text": [
      "Successfully processed 304 of 304 entries\n"
     ]
    },
    {
     "name": "stderr",
     "output_type": "stream",
     "text": [
      "\n"
     ]
    }
   ],
   "source": [
    "df_updated = process_smiles_dataframe(df,'smiles')"
   ]
  },
  {
   "cell_type": "code",
   "execution_count": 9,
   "metadata": {},
   "outputs": [
    {
     "data": {
      "text/plain": [
       "Index(['spec', 'ionization', 'smiles', 'spectral_data', 'InChI', 'Formula'], dtype='object')"
      ]
     },
     "execution_count": 9,
     "metadata": {},
     "output_type": "execute_result"
    }
   ],
   "source": [
    "df_updated.columns"
   ]
  },
  {
   "cell_type": "code",
   "execution_count": 10,
   "metadata": {},
   "outputs": [
    {
     "name": "stderr",
     "output_type": "stream",
     "text": [
      "Row processing: 304it [00:00, 23978.27it/s]\n"
     ]
    }
   ],
   "source": [
    "extracted_spectral_info_list = []\n",
    "\n",
    "for idx, row in tqdm(df_updated.iterrows(), desc=\"Row processing\"):\n",
    "    info = {\n",
    "        'cand_form': row['Formula'],\n",
    "        'cand_ion': row['ionization'],\n",
    "        'output_tbl': row['spectral_data']\n",
    "    }\n",
    "    extracted_spectral_info_list.append(info)"
   ]
  },
  {
   "cell_type": "code",
   "execution_count": 12,
   "metadata": {},
   "outputs": [],
   "source": [
    "df_updated['extracted_spectral_info'] = extracted_spectral_info_list"
   ]
  },
  {
   "cell_type": "code",
   "execution_count": 13,
   "metadata": {},
   "outputs": [],
   "source": [
    "columns_drop = [\n",
    "    'ionization',\n",
    "    'spectral_data',\n",
    "]\n",
    "\n",
    "df_updated = df_updated.drop(columns_drop,axis=1,errors='ignore')"
   ]
  },
  {
   "cell_type": "code",
   "execution_count": 14,
   "metadata": {},
   "outputs": [
    {
     "data": {
      "text/html": [
       "<div>\n",
       "<style scoped>\n",
       "    .dataframe tbody tr th:only-of-type {\n",
       "        vertical-align: middle;\n",
       "    }\n",
       "\n",
       "    .dataframe tbody tr th {\n",
       "        vertical-align: top;\n",
       "    }\n",
       "\n",
       "    .dataframe thead th {\n",
       "        text-align: right;\n",
       "    }\n",
       "</style>\n",
       "<table border=\"1\" class=\"dataframe\">\n",
       "  <thead>\n",
       "    <tr style=\"text-align: right;\">\n",
       "      <th></th>\n",
       "      <th>spec</th>\n",
       "      <th>smiles</th>\n",
       "      <th>InChI</th>\n",
       "      <th>Formula</th>\n",
       "      <th>extracted_spectral_info</th>\n",
       "    </tr>\n",
       "  </thead>\n",
       "  <tbody>\n",
       "    <tr>\n",
       "      <th>0</th>\n",
       "      <td>3</td>\n",
       "      <td>CC1C(C(C(C(O1)OC2=C(OC3=C(C(=CC(=C3C2=O)O)O)CC...</td>\n",
       "      <td>InChI=1S/C35H42O16/c1-14(2)6-11-19-20(38)12-21...</td>\n",
       "      <td>C35H42O16</td>\n",
       "      <td>{'cand_form': 'C35H42O16', 'cand_ion': '[M+H]+...</td>\n",
       "    </tr>\n",
       "    <tr>\n",
       "      <th>1</th>\n",
       "      <td>4</td>\n",
       "      <td>CC(C)CC(C(=O)O)NC(=O)C(C(C)C)OC(=O)C(C(C)C)NC(...</td>\n",
       "      <td>InChI=1S/C22H40N2O7/c1-11(2)9-15(21(28)29)23-2...</td>\n",
       "      <td>C22H40N2O7</td>\n",
       "      <td>{'cand_form': 'C22H40N2O7', 'cand_ion': '[M+Na...</td>\n",
       "    </tr>\n",
       "    <tr>\n",
       "      <th>2</th>\n",
       "      <td>5</td>\n",
       "      <td>CC1CC2(C(C1O)C=C(C(CC3C(C3(C)C)C=C(C2=O)C)OC(=...</td>\n",
       "      <td>InChI=1S/C26H36O8/c1-13-9-19-23(31)15(3)12-26(...</td>\n",
       "      <td>C26H36O8</td>\n",
       "      <td>{'cand_form': 'C26H36O8', 'cand_ion': '[M+Na]+...</td>\n",
       "    </tr>\n",
       "    <tr>\n",
       "      <th>3</th>\n",
       "      <td>6</td>\n",
       "      <td>CC1C(C(C(C(O1)OC2C(OC(C(C2O)O)OCC3C(C(C(C(O3)O...</td>\n",
       "      <td>InChI=1S/C54H84O22/c1-23-11-16-54(18-17-52(7)2...</td>\n",
       "      <td>C54H84O22</td>\n",
       "      <td>{'cand_form': 'C54H84O22', 'cand_ion': '[M+NH4...</td>\n",
       "    </tr>\n",
       "    <tr>\n",
       "      <th>4</th>\n",
       "      <td>9</td>\n",
       "      <td>CN(C)CCC1=CNC2=C1C=C(C=C2)CS(=O)(=O)N3CCCC3</td>\n",
       "      <td>InChI=1S/C17H25N3O2S/c1-19(2)10-7-15-12-18-17-...</td>\n",
       "      <td>C17H25N3O2S</td>\n",
       "      <td>{'cand_form': 'C17H25N3O2S', 'cand_ion': '[M+H...</td>\n",
       "    </tr>\n",
       "    <tr>\n",
       "      <th>...</th>\n",
       "      <td>...</td>\n",
       "      <td>...</td>\n",
       "      <td>...</td>\n",
       "      <td>...</td>\n",
       "      <td>...</td>\n",
       "    </tr>\n",
       "    <tr>\n",
       "      <th>299</th>\n",
       "      <td>492</td>\n",
       "      <td>CC1CCC(C2(C1=CC(CC2)C(=C)C(=O)O)C)OC3C(C(C(C(O...</td>\n",
       "      <td>InChI=1S/C21H32O8/c1-10-4-5-15(29-20-18(25)17(...</td>\n",
       "      <td>C21H32O8</td>\n",
       "      <td>{'cand_form': 'C21H32O8', 'cand_ion': '[M+NH4]...</td>\n",
       "    </tr>\n",
       "    <tr>\n",
       "      <th>300</th>\n",
       "      <td>493</td>\n",
       "      <td>CC=CC1=CC(=C(C(=C1)OC)OC(C)C(C2=CC(=C(C(=C2)OC...</td>\n",
       "      <td>InChI=1S/C25H32O8/c1-9-10-17-11-19(27-4)25(20(...</td>\n",
       "      <td>C25H32O8</td>\n",
       "      <td>{'cand_form': 'C25H32O8', 'cand_ion': '[M+NH4]...</td>\n",
       "    </tr>\n",
       "    <tr>\n",
       "      <th>301</th>\n",
       "      <td>494</td>\n",
       "      <td>COC(=O)C=CC1=CC=C(C=C1)OC2C(C(C(C(O2)CO)O)O)O</td>\n",
       "      <td>InChI=1S/C16H20O8/c1-22-12(18)7-4-9-2-5-10(6-3...</td>\n",
       "      <td>C16H20O8</td>\n",
       "      <td>{'cand_form': 'C16H20O8', 'cand_ion': '[M+NH4]...</td>\n",
       "    </tr>\n",
       "    <tr>\n",
       "      <th>302</th>\n",
       "      <td>495</td>\n",
       "      <td>COC1=C2C(=CC(=C1OC3C(C(C(C(O3)CO)O)O)OC4C(C(C(...</td>\n",
       "      <td>InChI=1S/C24H32O15/c1-34-22-19-10(4-5-35-19)6-...</td>\n",
       "      <td>C24H32O15</td>\n",
       "      <td>{'cand_form': 'C24H32O15', 'cand_ion': '[M+NH4...</td>\n",
       "    </tr>\n",
       "    <tr>\n",
       "      <th>303</th>\n",
       "      <td>500</td>\n",
       "      <td>C1C(COC2=C1C=CC(=C2)O)C3=CC=C(C=C3)O</td>\n",
       "      <td>InChI=1S/C15H14O3/c16-13-4-1-10(2-5-13)12-7-11...</td>\n",
       "      <td>C15H14O3</td>\n",
       "      <td>{'cand_form': 'C15H14O3', 'cand_ion': '[M+H]+'...</td>\n",
       "    </tr>\n",
       "  </tbody>\n",
       "</table>\n",
       "<p>304 rows × 5 columns</p>\n",
       "</div>"
      ],
      "text/plain": [
       "     spec                                             smiles  \\\n",
       "0       3  CC1C(C(C(C(O1)OC2=C(OC3=C(C(=CC(=C3C2=O)O)O)CC...   \n",
       "1       4  CC(C)CC(C(=O)O)NC(=O)C(C(C)C)OC(=O)C(C(C)C)NC(...   \n",
       "2       5  CC1CC2(C(C1O)C=C(C(CC3C(C3(C)C)C=C(C2=O)C)OC(=...   \n",
       "3       6  CC1C(C(C(C(O1)OC2C(OC(C(C2O)O)OCC3C(C(C(C(O3)O...   \n",
       "4       9        CN(C)CCC1=CNC2=C1C=C(C=C2)CS(=O)(=O)N3CCCC3   \n",
       "..    ...                                                ...   \n",
       "299   492  CC1CCC(C2(C1=CC(CC2)C(=C)C(=O)O)C)OC3C(C(C(C(O...   \n",
       "300   493  CC=CC1=CC(=C(C(=C1)OC)OC(C)C(C2=CC(=C(C(=C2)OC...   \n",
       "301   494      COC(=O)C=CC1=CC=C(C=C1)OC2C(C(C(C(O2)CO)O)O)O   \n",
       "302   495  COC1=C2C(=CC(=C1OC3C(C(C(C(O3)CO)O)O)OC4C(C(C(...   \n",
       "303   500               C1C(COC2=C1C=CC(=C2)O)C3=CC=C(C=C3)O   \n",
       "\n",
       "                                                 InChI      Formula  \\\n",
       "0    InChI=1S/C35H42O16/c1-14(2)6-11-19-20(38)12-21...    C35H42O16   \n",
       "1    InChI=1S/C22H40N2O7/c1-11(2)9-15(21(28)29)23-2...   C22H40N2O7   \n",
       "2    InChI=1S/C26H36O8/c1-13-9-19-23(31)15(3)12-26(...     C26H36O8   \n",
       "3    InChI=1S/C54H84O22/c1-23-11-16-54(18-17-52(7)2...    C54H84O22   \n",
       "4    InChI=1S/C17H25N3O2S/c1-19(2)10-7-15-12-18-17-...  C17H25N3O2S   \n",
       "..                                                 ...          ...   \n",
       "299  InChI=1S/C21H32O8/c1-10-4-5-15(29-20-18(25)17(...     C21H32O8   \n",
       "300  InChI=1S/C25H32O8/c1-9-10-17-11-19(27-4)25(20(...     C25H32O8   \n",
       "301  InChI=1S/C16H20O8/c1-22-12(18)7-4-9-2-5-10(6-3...     C16H20O8   \n",
       "302  InChI=1S/C24H32O15/c1-34-22-19-10(4-5-35-19)6-...    C24H32O15   \n",
       "303  InChI=1S/C15H14O3/c16-13-4-1-10(2-5-13)12-7-11...     C15H14O3   \n",
       "\n",
       "                               extracted_spectral_info  \n",
       "0    {'cand_form': 'C35H42O16', 'cand_ion': '[M+H]+...  \n",
       "1    {'cand_form': 'C22H40N2O7', 'cand_ion': '[M+Na...  \n",
       "2    {'cand_form': 'C26H36O8', 'cand_ion': '[M+Na]+...  \n",
       "3    {'cand_form': 'C54H84O22', 'cand_ion': '[M+NH4...  \n",
       "4    {'cand_form': 'C17H25N3O2S', 'cand_ion': '[M+H...  \n",
       "..                                                 ...  \n",
       "299  {'cand_form': 'C21H32O8', 'cand_ion': '[M+NH4]...  \n",
       "300  {'cand_form': 'C25H32O8', 'cand_ion': '[M+NH4]...  \n",
       "301  {'cand_form': 'C16H20O8', 'cand_ion': '[M+NH4]...  \n",
       "302  {'cand_form': 'C24H32O15', 'cand_ion': '[M+NH4...  \n",
       "303  {'cand_form': 'C15H14O3', 'cand_ion': '[M+H]+'...  \n",
       "\n",
       "[304 rows x 5 columns]"
      ]
     },
     "execution_count": 14,
     "metadata": {},
     "output_type": "execute_result"
    }
   ],
   "source": [
    "df_updated "
   ]
  },
  {
   "cell_type": "code",
   "execution_count": 43,
   "metadata": {},
   "outputs": [],
   "source": [
    "df_updated.to_csv('../../data/production_ready_data/spectrs/casmi22.csv', sep=',', index=False)"
   ]
  }
 ],
 "metadata": {
  "kernelspec": {
   "display_name": "spectrum-to-molecular-ECHCqm5f-py3.10",
   "language": "python",
   "name": "python3"
  },
  "language_info": {
   "codemirror_mode": {
    "name": "ipython",
    "version": 3
   },
   "file_extension": ".py",
   "mimetype": "text/x-python",
   "name": "python",
   "nbconvert_exporter": "python",
   "pygments_lexer": "ipython3",
   "version": "3.10.12"
  }
 },
 "nbformat": 4,
 "nbformat_minor": 2
}
