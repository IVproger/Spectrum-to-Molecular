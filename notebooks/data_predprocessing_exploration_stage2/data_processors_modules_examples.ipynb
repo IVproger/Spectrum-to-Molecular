{
 "cells": [
  {
   "cell_type": "markdown",
   "id": "2eb6e86c",
   "metadata": {},
   "source": [
    "# What modified base on Diffms approaches:\n",
    "Reference files: \n",
    "1) /DiffMS/src/datasets/spec2mol_dataset.py\n",
    "2) /DiffMS/src/mist/data/featurizers.py\n",
    "3) /DiffMS/src/spec2mol_main.py"
   ]
  },
  {
   "cell_type": "markdown",
   "id": "884795eb",
   "metadata": {},
   "source": [
    "# SpectrumProcessor vs PeakFormula Comparison\n",
    "\n",
    "The updated `SpectrumProcessor` class represents a significant refactoring of functionality from the `PeakFormula` class in the original code. Here are the key differences:\n",
    "\n",
    "## Purpose and Integration\n",
    "- **SpectrumProcessor**: Standalone class that processes raw spectral data directly from JSON\n",
    "- **PeakFormula**: Integrated featurizer within a larger framework that works with `data.Spectra` objects\n",
    "\n",
    "## Input Processing\n",
    "- **SpectrumProcessor**: Takes raw JSON strings or dictionaries directly via `process_raw_spectrum`\n",
    "- **PeakFormula**: Reads spectrum data from files in a predefined directory structure\n",
    "\n",
    "## Architecture\n",
    "- **SpectrumProcessor**: Self-contained with no inheritance\n",
    "- **PeakFormula**: Inherits from `SpecFeaturizer` which inherits from `Featurizer`\n",
    "\n",
    "## Key Implementation Differences\n",
    "\n",
    "1. **Data Flow**:\n",
    "   - `SpectrumProcessor` operates on raw data in memory\n",
    "   - `PeakFormula` requires file system integration and file reading\n",
    "\n",
    "2. **Method Structure**:\n",
    "   - `SpectrumProcessor` has cleaner method names (`_get_peak_dict_from_raw`, `process_raw_spectrum`)\n",
    "   - `PeakFormula` uses framework methods like `_featurize` and `collate_fn`\n",
    "\n",
    "3. **Output Format**:\n",
    "   - Both generate similar feature dictionaries but `PeakFormula` has additional metadata for the framework\n",
    "   - `PeakFormula` includes collation functions for batching data in PyTorch\n",
    "\n",
    "The `SpectrumProcessor` appears to be a focused extraction of the core spectrum processing functionality, making it more portable and independent from the larger framework. It's designed to work with raw data directly rather than relying on file system integration."
   ]
  },
  {
   "cell_type": "markdown",
   "id": "2e1c16bd",
   "metadata": {},
   "source": [
    "# FingerprintProcessor vs FingerprintFeaturizer Comparison\n",
    "\n",
    "The new `FingerprintProcessor` class represents a streamlined version of the original `FingerprintFeaturizer` class with different interfaces and additional capabilities. Here's a detailed comparison:\n",
    "\n",
    "## Purpose and Integration\n",
    "- **FingerprintProcessor**: Self-contained class that processes raw spectral JSON data directly to generate fingerprints\n",
    "- **FingerprintFeaturizer**: Integrated into a larger framework that works with `data.Mol` objects and includes PyTorch data handling\n",
    "\n",
    "## Input Processing\n",
    "- **FingerprintProcessor**: Accepts raw JSON with SMILES/InChI and creates molecules directly\n",
    "- **FingerprintFeaturizer**: Expects pre-processed `data.Mol` objects and has no direct JSON handling\n",
    "\n",
    "## Key Implementation Differences\n",
    "\n",
    "1. **Data Flow**:\n",
    "   - `FingerprintProcessor` extracts SMILES/InChI from JSON and creates RDKit molecules\n",
    "   - `FingerprintFeaturizer` uses molecules provided by the larger framework\n",
    "\n",
    "2. **Fingerprint Handling**:\n",
    "   - Both support multiple fingerprint types (Morgan, MACCS)\n",
    "   - Implementation of specific fingerprint methods is very similar\n",
    "\n",
    "3. **New Features in FingerprintProcessor**:\n",
    "   - Built-in fingerprint augmentation via bit flipping\n",
    "   - Better error handling with `_empty_fingerprints` for when molecules can't be created\n",
    "\n",
    "4. **Features in FingerprintFeaturizer not in FingerprintProcessor**:\n",
    "   - Caching mechanism for fingerprints\n",
    "   - Loading pre-computed fingerprints from files\n",
    "   - PyTorch collation function\n",
    "\n",
    "5. **Architecture**:\n",
    "   - `FingerprintProcessor` is self-contained with no inheritance\n",
    "   - `FingerprintFeaturizer` inherits from `MolFeaturizer` which inherits from `Featurizer`\n",
    "\n",
    "The `FingerprintProcessor` represents a more independent implementation that works directly with raw data, while adding data augmentation capabilities and better error handling. However, it loses some of the framework integration features like PyTorch batching and distance calculations that were present in the original `FingerprintFeaturizer`."
   ]
  },
  {
   "cell_type": "markdown",
   "id": "ad10e2a7",
   "metadata": {},
   "source": [
    "# GraphProcessor vs GraphFeaturizer Comparison\n",
    "\n",
    "The `GraphProcessor` class represents a significant enhancement and extension of the original `GraphFeaturizer` class. Here's a detailed comparison:\n",
    "\n",
    "## Purpose and Integration\n",
    "- **GraphProcessor**: Self-contained processor that converts raw spectral JSON directly into molecular graph representations\n",
    "- **GraphFeaturizer**: Integrated into a larger framework that works with `data.Mol` objects from the larger system\n",
    "\n",
    "## Input Processing\n",
    "- **GraphProcessor**: Accepts raw JSON with SMILES/InChI and creates RDKit molecules directly\n",
    "- **GraphFeaturizer**: Expects pre-processed `data.Mol` objects with molecule information already extracted\n",
    "\n",
    "## Key Implementation Differences\n",
    "\n",
    "1. **Graph Construction**:\n",
    "   - Both construct PyTorch Geometric `Data` objects with similar node and edge representations\n",
    "   - Similar atom type and bond type encoding approaches with one-hot encoding\n",
    "\n",
    "2. **New Features in GraphProcessor**:\n",
    "   - **Extended node features**: Option to add detailed atom properties (degree, charge, hybridization, etc.)\n",
    "   - **Graph augmentation**: Ability to perturb node and edge features for data augmentation\n",
    "   - **Error handling**: `_empty_graph()` method to handle cases when molecules can't be created\n",
    "   - **Direct JSON processing**: Works directly with raw spectral data without requiring pre-processing\n",
    "\n",
    "3. **Missing in GraphProcessor**:\n",
    "   - **Batch collation**: `GraphFeaturizer` includes a `collate_fn` for PyTorch DataLoader integration\n",
    "\n",
    "4. **Code Structure**:\n",
    "   - `GraphProcessor` has more comprehensive and modular code organization\n",
    "   - More extensive documentation and better error handling\n",
    "   - More flexible input handling (SMILES or InChI)\n",
    "\n",
    "5. **Architecture**:\n",
    "   - `GraphProcessor` is self-contained with no inheritance\n",
    "   - `GraphFeaturizer` inherits from `Featurizer` which enables caching behavior\n",
    "\n",
    "The `GraphProcessor` represents a significantly enhanced version of the graph generation capabilities, with better flexibility, error handling, and feature representation capabilities. It works independently of the larger framework while adding more sophisticated graph generation and augmentation capabilities.\n",
    "\n",
    "The major improvement is the ability to work directly with raw spectral data and to provide richer molecular representations with extended node features and augmentation options."
   ]
  },
  {
   "cell_type": "code",
   "execution_count": null,
   "id": "608792b1",
   "metadata": {},
   "outputs": [],
   "source": [
    "import pandas as pd"
   ]
  },
  {
   "cell_type": "code",
   "execution_count": null,
   "id": "60aae66a",
   "metadata": {},
   "outputs": [],
   "source": [
    "df = pd.read_csv(\"../../data/production_ready_data/train/spectrs/MassSpecGym_fixed.csv\")"
   ]
  },
  {
   "cell_type": "code",
   "execution_count": 4,
   "id": "92b7f15d",
   "metadata": {},
   "outputs": [
    {
     "name": "stderr",
     "output_type": "stream",
     "text": [
      "/home/i_golov/.cache/pypoetry/virtualenvs/spectrum-to-molecular-ECHCqm5f-py3.10/lib/python3.10/site-packages/torch_geometric/utils/convert.py:4: UserWarning: A NumPy version >=1.23.5 and <2.5.0 is required for this version of SciPy (detected version 1.23.0)\n",
      "  import scipy.sparse\n"
     ]
    }
   ],
   "source": [
    "from processors.processors_diffms import *"
   ]
  },
  {
   "cell_type": "code",
   "execution_count": 5,
   "id": "f0fbbe9d",
   "metadata": {},
   "outputs": [
    {
     "name": "stdout",
     "output_type": "stream",
     "text": [
      "Found 231104 MAGMA files\n"
     ]
    }
   ],
   "source": [
    "# Initialize the processor\n",
    "processor = SpectrumProcessor(\n",
    "    max_peaks=50,\n",
    "    inten_transform=\"float\",\n",
    "    cls_type=\"ms1\",\n",
    "    magma_aux_loss=True,\n",
    "    magma_folder='../../data/raw/msg_diffms/magma_outputs/magma_tsv'\n",
    ")\n",
    "\n",
    "# For fingerprints\n",
    "fingerprint_processor = FingerprintProcessor(\n",
    "    fp_names=[\"morgan2048\", \"maccs\"],\n",
    "    augment_data=False\n",
    ")\n",
    "\n",
    "# For graphs\n",
    "graph_processor = GraphProcessor(\n",
    "    augment_data=False,\n",
    "    add_node_features=True\n",
    ")\n",
    "# Process each row in the DataFrame\n",
    "processed_rows = []"
   ]
  },
  {
   "cell_type": "code",
   "execution_count": 6,
   "id": "56caa8cd",
   "metadata": {},
   "outputs": [
    {
     "data": {
      "application/vnd.jupyter.widget-view+json": {
       "model_id": "6be0adf0a9f6453fbb33d60226c55447",
       "version_major": 2,
       "version_minor": 0
      },
      "text/plain": [
       "Processing spectra:   0%|          | 0/231104 [00:00<?, ?it/s]"
      ]
     },
     "metadata": {},
     "output_type": "display_data"
    },
    {
     "name": "stdout",
     "output_type": "stream",
     "text": [
      "{'peak_type': array([0, 0, 0, 0, 0, 0, 0, 0, 3]), 'form_vec': array([[ 6.,  4.,  0.,  0.,  0.,  0.,  0.,  0.,  0.,  0.,  0.,  0.,  0.,\n",
      "         3.,  0.,  0.,  0.,  0.],\n",
      "       [14., 15.,  0.,  0.,  0.,  0.,  0.,  0.,  0.,  0.,  0.,  1.,  0.,\n",
      "         3.,  0.,  0.,  0.,  0.],\n",
      "       [ 7.,  8.,  0.,  0.,  0.,  0.,  0.,  0.,  0.,  0.,  0.,  1.,  0.,\n",
      "         3.,  0.,  0.,  0.,  0.],\n",
      "       [13., 12.,  0.,  0.,  0.,  0.,  0.,  0.,  0.,  0.,  0.,  0.,  0.,\n",
      "         1.,  0.,  0.,  0.,  0.],\n",
      "       [ 7.,  6.,  0.,  0.,  0.,  0.,  0.,  0.,  0.,  0.,  0.,  0.,  0.,\n",
      "         0.,  0.,  0.,  0.,  0.],\n",
      "       [14., 12.,  0.,  0.,  0.,  0.,  0.,  0.,  0.,  0.,  0.,  0.,  0.,\n",
      "         3.,  0.,  0.,  0.,  0.],\n",
      "       [ 7.,  7.,  0.,  0.,  0.,  0.,  0.,  0.,  0.,  0.,  0.,  1.,  0.,\n",
      "         3.,  0.,  0.,  0.,  0.],\n",
      "       [13., 13.,  0.,  0.,  0.,  0.,  0.,  0.,  0.,  0.,  0.,  1.,  0.,\n",
      "         1.,  0.,  0.,  0.,  0.],\n",
      "       [16., 17.,  0.,  0.,  0.,  0.,  0.,  0.,  0.,  0.,  0.,  1.,  0.,\n",
      "         4.,  0.,  0.,  0.,  0.]]), 'ion_vec': [0, 0, 0, 0, 0, 0, 0, 0, 0], 'frag_intens': array([1.        , 0.85716669, 0.5961169 , 0.59105782, 0.49522242,\n",
      "       0.37701743, 0.28298424, 0.21223818, 1.        ]), 'name': 'MassSpecGymID0000001', 'magma_fps': array([[ 0.,  0.,  0., ...,  0.,  0.,  0.],\n",
      "       [ 0.,  0.,  0., ...,  0.,  0.,  0.],\n",
      "       [ 0.,  0.,  0., ...,  0.,  0.,  0.],\n",
      "       ...,\n",
      "       [ 0.,  0.,  0., ...,  0.,  0.,  0.],\n",
      "       [ 0.,  0.,  0., ...,  0.,  0.,  0.],\n",
      "       [-1., -1., -1., ..., -1., -1., -1.]]), 'magma_aux_loss': True, 'instrument': 0}\n"
     ]
    }
   ],
   "source": [
    "from tqdm.notebook import tqdm\n",
    "\n",
    "\n",
    "for idx, row in tqdm(df.iterrows(), total=df.shape[0], desc=\"Processing spectra\"):\n",
    "    \n",
    "    # fp_features = fingerprint_processor.process_raw_spectrum(\n",
    "    #     raw_spectral_json=row,\n",
    "    #     spec_id=row['spec'],\n",
    "    #     train_mode=False\n",
    "    # )\n",
    "    \n",
    "    # print(fp_features)\n",
    "    \n",
    "    spec_features = processor.process_raw_spectrum(\n",
    "        raw_spectral_json=row['extracted_spectral_info'],\n",
    "        spec_id=row['spec'],\n",
    "        train_mode=False\n",
    "    )\n",
    "    \n",
    "    print(spec_features)\n",
    "    \n",
    "    # graph_data = graph_processor.process_raw_spectrum(\n",
    "    #     raw_spectral_json=row,\n",
    "    #     spec_id=row['spec'],\n",
    "    #     train_mode=False\n",
    "    # )\n",
    "    \n",
    "    # print(graph_data)\n",
    "\n",
    "    break"
   ]
  },
  {
   "cell_type": "code",
   "execution_count": 7,
   "id": "3a40e3c9",
   "metadata": {},
   "outputs": [
    {
     "data": {
      "text/plain": [
       "{'peak_type': array([0, 0, 0, 0, 0, 0, 0, 0, 3]),\n",
       " 'form_vec': array([[ 6.,  4.,  0.,  0.,  0.,  0.,  0.,  0.,  0.,  0.,  0.,  0.,  0.,\n",
       "          3.,  0.,  0.,  0.,  0.],\n",
       "        [14., 15.,  0.,  0.,  0.,  0.,  0.,  0.,  0.,  0.,  0.,  1.,  0.,\n",
       "          3.,  0.,  0.,  0.,  0.],\n",
       "        [ 7.,  8.,  0.,  0.,  0.,  0.,  0.,  0.,  0.,  0.,  0.,  1.,  0.,\n",
       "          3.,  0.,  0.,  0.,  0.],\n",
       "        [13., 12.,  0.,  0.,  0.,  0.,  0.,  0.,  0.,  0.,  0.,  0.,  0.,\n",
       "          1.,  0.,  0.,  0.,  0.],\n",
       "        [ 7.,  6.,  0.,  0.,  0.,  0.,  0.,  0.,  0.,  0.,  0.,  0.,  0.,\n",
       "          0.,  0.,  0.,  0.,  0.],\n",
       "        [14., 12.,  0.,  0.,  0.,  0.,  0.,  0.,  0.,  0.,  0.,  0.,  0.,\n",
       "          3.,  0.,  0.,  0.,  0.],\n",
       "        [ 7.,  7.,  0.,  0.,  0.,  0.,  0.,  0.,  0.,  0.,  0.,  1.,  0.,\n",
       "          3.,  0.,  0.,  0.,  0.],\n",
       "        [13., 13.,  0.,  0.,  0.,  0.,  0.,  0.,  0.,  0.,  0.,  1.,  0.,\n",
       "          1.,  0.,  0.,  0.,  0.],\n",
       "        [16., 17.,  0.,  0.,  0.,  0.,  0.,  0.,  0.,  0.,  0.,  1.,  0.,\n",
       "          4.,  0.,  0.,  0.,  0.]]),\n",
       " 'ion_vec': [0, 0, 0, 0, 0, 0, 0, 0, 0],\n",
       " 'frag_intens': array([1.        , 0.85716669, 0.5961169 , 0.59105782, 0.49522242,\n",
       "        0.37701743, 0.28298424, 0.21223818, 1.        ]),\n",
       " 'name': 'MassSpecGymID0000001',\n",
       " 'magma_fps': array([[ 0.,  0.,  0., ...,  0.,  0.,  0.],\n",
       "        [ 0.,  0.,  0., ...,  0.,  0.,  0.],\n",
       "        [ 0.,  0.,  0., ...,  0.,  0.,  0.],\n",
       "        ...,\n",
       "        [ 0.,  0.,  0., ...,  0.,  0.,  0.],\n",
       "        [ 0.,  0.,  0., ...,  0.,  0.,  0.],\n",
       "        [-1., -1., -1., ..., -1., -1., -1.]]),\n",
       " 'magma_aux_loss': True,\n",
       " 'instrument': 0}"
      ]
     },
     "execution_count": 7,
     "metadata": {},
     "output_type": "execute_result"
    }
   ],
   "source": [
    "spec_features"
   ]
  }
 ],
 "metadata": {
  "kernelspec": {
   "display_name": "spectrum-to-molecular-ECHCqm5f-py3.10",
   "language": "python",
   "name": "python3"
  },
  "language_info": {
   "codemirror_mode": {
    "name": "ipython",
    "version": 3
   },
   "file_extension": ".py",
   "mimetype": "text/x-python",
   "name": "python",
   "nbconvert_exporter": "python",
   "pygments_lexer": "ipython3",
   "version": "3.10.12"
  }
 },
 "nbformat": 4,
 "nbformat_minor": 5
}
