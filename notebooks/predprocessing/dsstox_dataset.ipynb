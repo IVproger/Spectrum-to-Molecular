{
 "cells": [
  {
   "cell_type": "code",
   "execution_count": 1,
   "metadata": {},
   "outputs": [],
   "source": [
    "import sys\n",
    "import os\n",
    "\n",
    "parent_dir = os.path.abspath(os.path.join('../..'))\n",
    "if parent_dir not in sys.path:\n",
    "    sys.path.append(parent_dir)"
   ]
  },
  {
   "cell_type": "code",
   "execution_count": 2,
   "metadata": {},
   "outputs": [],
   "source": [
    "from src.utils import process_excel_files"
   ]
  },
  {
   "cell_type": "code",
   "execution_count": 3,
   "metadata": {},
   "outputs": [
    {
     "name": "stderr",
     "output_type": "stream",
     "text": [
      "Processing file 1: 100%|██████████| 54876/54876 [00:01<00:00, 29493.48it/s]\n",
      "Processing Excel files:   8%|▊         | 1/13 [00:17<03:29, 17.47s/it]"
     ]
    },
    {
     "name": "stdout",
     "output_type": "stream",
     "text": [
      "Extracted 54875 valid compounds from ../../data/raw/diffms_spectrum_db/raw/DSSToxDump1.xlsx\n"
     ]
    },
    {
     "name": "stderr",
     "output_type": "stream",
     "text": [
      "Processing file 2: 100%|██████████| 65947/65947 [00:01<00:00, 41106.80it/s]\n",
      "Processing Excel files:  15%|█▌        | 2/13 [00:36<03:21, 18.28s/it]"
     ]
    },
    {
     "name": "stdout",
     "output_type": "stream",
     "text": [
      "Extracted 65947 valid compounds from ../../data/raw/diffms_spectrum_db/raw/DSSToxDump2.xlsx\n"
     ]
    },
    {
     "name": "stderr",
     "output_type": "stream",
     "text": [
      "Processing file 3: 100%|██████████| 68559/68559 [00:01<00:00, 40732.17it/s]\n",
      "Processing Excel files:  23%|██▎       | 3/13 [00:54<03:04, 18.45s/it]"
     ]
    },
    {
     "name": "stdout",
     "output_type": "stream",
     "text": [
      "Extracted 68559 valid compounds from ../../data/raw/diffms_spectrum_db/raw/DSSToxDump3.xlsx\n"
     ]
    },
    {
     "name": "stderr",
     "output_type": "stream",
     "text": [
      "Processing file 4: 100%|██████████| 61257/61257 [00:01<00:00, 39399.40it/s]\n",
      "Processing Excel files:  31%|███       | 4/13 [01:13<02:45, 18.39s/it]"
     ]
    },
    {
     "name": "stdout",
     "output_type": "stream",
     "text": [
      "Extracted 61256 valid compounds from ../../data/raw/diffms_spectrum_db/raw/DSSToxDump4.xlsx\n"
     ]
    },
    {
     "name": "stderr",
     "output_type": "stream",
     "text": [
      "Processing file 5: 100%|██████████| 66731/66731 [00:01<00:00, 36385.28it/s]\n",
      "Processing Excel files:  38%|███▊      | 5/13 [01:31<02:26, 18.34s/it]"
     ]
    },
    {
     "name": "stdout",
     "output_type": "stream",
     "text": [
      "Extracted 66731 valid compounds from ../../data/raw/diffms_spectrum_db/raw/DSSToxDump5.xlsx\n"
     ]
    },
    {
     "name": "stderr",
     "output_type": "stream",
     "text": [
      "Processing file 6: 100%|██████████| 64367/64367 [00:01<00:00, 37958.77it/s]\n",
      "Processing Excel files:  46%|████▌     | 6/13 [01:49<02:07, 18.20s/it]"
     ]
    },
    {
     "name": "stdout",
     "output_type": "stream",
     "text": [
      "Extracted 64364 valid compounds from ../../data/raw/diffms_spectrum_db/raw/DSSToxDump6.xlsx\n"
     ]
    },
    {
     "name": "stderr",
     "output_type": "stream",
     "text": [
      "Processing file 7: 100%|██████████| 52809/52809 [00:01<00:00, 36786.54it/s]\n",
      "Processing Excel files:  54%|█████▍    | 7/13 [02:07<01:48, 18.08s/it]"
     ]
    },
    {
     "name": "stdout",
     "output_type": "stream",
     "text": [
      "Extracted 52806 valid compounds from ../../data/raw/diffms_spectrum_db/raw/DSSToxDump7.xlsx\n"
     ]
    },
    {
     "name": "stderr",
     "output_type": "stream",
     "text": [
      "Processing file 8: 100%|██████████| 50857/50857 [00:01<00:00, 31422.72it/s]\n",
      "Processing Excel files:  62%|██████▏   | 8/13 [02:24<01:29, 17.80s/it]"
     ]
    },
    {
     "name": "stdout",
     "output_type": "stream",
     "text": [
      "Extracted 50847 valid compounds from ../../data/raw/diffms_spectrum_db/raw/DSSToxDump8.xlsx\n"
     ]
    },
    {
     "name": "stderr",
     "output_type": "stream",
     "text": [
      "Processing file 9: 100%|██████████| 47468/47468 [00:01<00:00, 35778.87it/s]\n",
      "Processing Excel files:  69%|██████▉   | 9/13 [02:42<01:11, 17.94s/it]"
     ]
    },
    {
     "name": "stdout",
     "output_type": "stream",
     "text": [
      "Extracted 47449 valid compounds from ../../data/raw/diffms_spectrum_db/raw/DSSToxDump9.xlsx\n"
     ]
    },
    {
     "name": "stderr",
     "output_type": "stream",
     "text": [
      "Processing file 10: 100%|██████████| 32261/32261 [00:00<00:00, 38560.37it/s]\n",
      "Processing Excel files:  77%|███████▋  | 10/13 [02:59<00:52, 17.53s/it]"
     ]
    },
    {
     "name": "stdout",
     "output_type": "stream",
     "text": [
      "Extracted 32247 valid compounds from ../../data/raw/diffms_spectrum_db/raw/DSSToxDump10.xlsx\n"
     ]
    },
    {
     "name": "stderr",
     "output_type": "stream",
     "text": [
      "Processing file 11: 100%|██████████| 81834/81834 [00:01<00:00, 42163.51it/s]\n",
      "Processing Excel files:  85%|████████▍ | 11/13 [03:18<00:36, 18.10s/it]"
     ]
    },
    {
     "name": "stdout",
     "output_type": "stream",
     "text": [
      "Extracted 81813 valid compounds from ../../data/raw/diffms_spectrum_db/raw/DSSToxDump11.xlsx\n"
     ]
    },
    {
     "name": "stderr",
     "output_type": "stream",
     "text": [
      "Processing file 12: 100%|██████████| 79095/79095 [00:02<00:00, 37814.84it/s]\n",
      "Processing Excel files:  92%|█████████▏| 12/13 [03:38<00:18, 18.62s/it]"
     ]
    },
    {
     "name": "stdout",
     "output_type": "stream",
     "text": [
      "Extracted 79054 valid compounds from ../../data/raw/diffms_spectrum_db/raw/DSSToxDump12.xlsx\n"
     ]
    },
    {
     "name": "stderr",
     "output_type": "stream",
     "text": [
      "Processing file 13: 100%|██████████| 5716/5716 [00:00<00:00, 31565.97it/s]\n",
      "Processing Excel files: 100%|██████████| 13/13 [03:43<00:00, 17.15s/it]"
     ]
    },
    {
     "name": "stdout",
     "output_type": "stream",
     "text": [
      "Extracted 5716 valid compounds from ../../data/raw/diffms_spectrum_db/raw/DSSToxDump13.xlsx\n"
     ]
    },
    {
     "name": "stderr",
     "output_type": "stream",
     "text": [
      "\n"
     ]
    },
    {
     "name": "stdout",
     "output_type": "stream",
     "text": [
      "Final DataFrame contains 731664 unique compounds\n",
      "Removed 0 duplicates\n"
     ]
    }
   ],
   "source": [
    "df = process_excel_files()"
   ]
  },
  {
   "cell_type": "code",
   "execution_count": 4,
   "metadata": {},
   "outputs": [
    {
     "data": {
      "text/html": [
       "<div>\n",
       "<style scoped>\n",
       "    .dataframe tbody tr th:only-of-type {\n",
       "        vertical-align: middle;\n",
       "    }\n",
       "\n",
       "    .dataframe tbody tr th {\n",
       "        vertical-align: top;\n",
       "    }\n",
       "\n",
       "    .dataframe thead th {\n",
       "        text-align: right;\n",
       "    }\n",
       "</style>\n",
       "<table border=\"1\" class=\"dataframe\">\n",
       "  <thead>\n",
       "    <tr style=\"text-align: right;\">\n",
       "      <th></th>\n",
       "      <th>SMILES</th>\n",
       "      <th>InChI</th>\n",
       "      <th>Formula</th>\n",
       "    </tr>\n",
       "  </thead>\n",
       "  <tbody>\n",
       "    <tr>\n",
       "      <th>0</th>\n",
       "      <td>NC1=NC2=C(C=C1)C1=CC=CC=C1N2</td>\n",
       "      <td>InChI=1S/C11H9N3/c12-10-6-5-8-7-3-1-2-4-9(7)13...</td>\n",
       "      <td>C11H9N3</td>\n",
       "    </tr>\n",
       "    <tr>\n",
       "      <th>1</th>\n",
       "      <td>CC=NO</td>\n",
       "      <td>InChI=1S/C2H5NO/c1-2-3-4/h2,4H,1H3</td>\n",
       "      <td>C2H5NO</td>\n",
       "    </tr>\n",
       "    <tr>\n",
       "      <th>2</th>\n",
       "      <td>CC(N)=O</td>\n",
       "      <td>InChI=1S/C2H5NO/c1-2(3)4/h1H3,(H2,3,4)</td>\n",
       "      <td>C2H5NO</td>\n",
       "    </tr>\n",
       "    <tr>\n",
       "      <th>3</th>\n",
       "      <td>CC(=O)NC1=CC=C(O)C=C1</td>\n",
       "      <td>InChI=1S/C8H9NO2/c1-6(10)9-7-2-4-8(11)5-3-7/h2...</td>\n",
       "      <td>C8H9NO2</td>\n",
       "    </tr>\n",
       "    <tr>\n",
       "      <th>4</th>\n",
       "      <td>CC(=O)C1=CC=C(C=C1)S(=O)(=O)NC(=O)NC1CCCCC1</td>\n",
       "      <td>InChI=1S/C15H20N2O4S/c1-11(18)12-7-9-14(10-8-1...</td>\n",
       "      <td>C15H20N2O4S</td>\n",
       "    </tr>\n",
       "    <tr>\n",
       "      <th>...</th>\n",
       "      <td>...</td>\n",
       "      <td>...</td>\n",
       "      <td>...</td>\n",
       "    </tr>\n",
       "    <tr>\n",
       "      <th>731659</th>\n",
       "      <td>CC1=CC2=C(C(C)=CC=C2)C(C)=C1</td>\n",
       "      <td>InChI=1S/C13H14/c1-9-7-11(3)13-10(2)5-4-6-12(1...</td>\n",
       "      <td>C13H14</td>\n",
       "    </tr>\n",
       "    <tr>\n",
       "      <th>731660</th>\n",
       "      <td>CCCC1=CC=C(C)C(C)=C1</td>\n",
       "      <td>InChI=1S/C11H16/c1-4-5-11-7-6-9(2)10(3)8-11/h6...</td>\n",
       "      <td>C11H16</td>\n",
       "    </tr>\n",
       "    <tr>\n",
       "      <th>731661</th>\n",
       "      <td>CCC1=CC(C)=CC(C)=C1C</td>\n",
       "      <td>InChI=1S/C11H16/c1-5-11-7-8(2)6-9(3)10(11)4/h6...</td>\n",
       "      <td>C11H16</td>\n",
       "    </tr>\n",
       "    <tr>\n",
       "      <th>731662</th>\n",
       "      <td>COC1=CC=C([I+]C2=CC=C(OC)C=C2)C=C1</td>\n",
       "      <td>InChI=1S/C14H14IO2/c1-16-13-7-3-11(4-8-13)15-1...</td>\n",
       "      <td>C14H14IO2+</td>\n",
       "    </tr>\n",
       "    <tr>\n",
       "      <th>731663</th>\n",
       "      <td>C[Si](C)(C)OC1CC(=CC(O[Si](C)(C)C)C1O[Si](C)(C...</td>\n",
       "      <td>InChI=1S/C19H42O5Si4/c1-25(2,3)21-16-13-15(19(...</td>\n",
       "      <td>C19H42O5Si4</td>\n",
       "    </tr>\n",
       "  </tbody>\n",
       "</table>\n",
       "<p>731664 rows × 3 columns</p>\n",
       "</div>"
      ],
      "text/plain": [
       "                                                   SMILES  \\\n",
       "0                            NC1=NC2=C(C=C1)C1=CC=CC=C1N2   \n",
       "1                                                   CC=NO   \n",
       "2                                                 CC(N)=O   \n",
       "3                                   CC(=O)NC1=CC=C(O)C=C1   \n",
       "4             CC(=O)C1=CC=C(C=C1)S(=O)(=O)NC(=O)NC1CCCCC1   \n",
       "...                                                   ...   \n",
       "731659                       CC1=CC2=C(C(C)=CC=C2)C(C)=C1   \n",
       "731660                               CCCC1=CC=C(C)C(C)=C1   \n",
       "731661                               CCC1=CC(C)=CC(C)=C1C   \n",
       "731662                 COC1=CC=C([I+]C2=CC=C(OC)C=C2)C=C1   \n",
       "731663  C[Si](C)(C)OC1CC(=CC(O[Si](C)(C)C)C1O[Si](C)(C...   \n",
       "\n",
       "                                                    InChI      Formula  \n",
       "0       InChI=1S/C11H9N3/c12-10-6-5-8-7-3-1-2-4-9(7)13...      C11H9N3  \n",
       "1                      InChI=1S/C2H5NO/c1-2-3-4/h2,4H,1H3       C2H5NO  \n",
       "2                  InChI=1S/C2H5NO/c1-2(3)4/h1H3,(H2,3,4)       C2H5NO  \n",
       "3       InChI=1S/C8H9NO2/c1-6(10)9-7-2-4-8(11)5-3-7/h2...      C8H9NO2  \n",
       "4       InChI=1S/C15H20N2O4S/c1-11(18)12-7-9-14(10-8-1...  C15H20N2O4S  \n",
       "...                                                   ...          ...  \n",
       "731659  InChI=1S/C13H14/c1-9-7-11(3)13-10(2)5-4-6-12(1...       C13H14  \n",
       "731660  InChI=1S/C11H16/c1-4-5-11-7-6-9(2)10(3)8-11/h6...       C11H16  \n",
       "731661  InChI=1S/C11H16/c1-5-11-7-8(2)6-9(3)10(11)4/h6...       C11H16  \n",
       "731662  InChI=1S/C14H14IO2/c1-16-13-7-3-11(4-8-13)15-1...   C14H14IO2+  \n",
       "731663  InChI=1S/C19H42O5Si4/c1-25(2,3)21-16-13-15(19(...  C19H42O5Si4  \n",
       "\n",
       "[731664 rows x 3 columns]"
      ]
     },
     "execution_count": 4,
     "metadata": {},
     "output_type": "execute_result"
    }
   ],
   "source": [
    "df"
   ]
  },
  {
   "cell_type": "code",
   "execution_count": 5,
   "metadata": {},
   "outputs": [],
   "source": [
    "df.to_csv('../../data/production_ready_data/mols/dsstox_dataset.csv', index=False)"
   ]
  }
 ],
 "metadata": {
  "kernelspec": {
   "display_name": "spectrum-to-molecular-ECHCqm5f-py3.10",
   "language": "python",
   "name": "python3"
  },
  "language_info": {
   "codemirror_mode": {
    "name": "ipython",
    "version": 3
   },
   "file_extension": ".py",
   "mimetype": "text/x-python",
   "name": "python",
   "nbconvert_exporter": "python",
   "pygments_lexer": "ipython3",
   "version": "3.10.12"
  }
 },
 "nbformat": 4,
 "nbformat_minor": 2
}
