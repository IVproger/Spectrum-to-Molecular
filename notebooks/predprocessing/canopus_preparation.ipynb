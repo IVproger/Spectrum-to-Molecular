{
 "cells": [
  {
   "cell_type": "code",
   "execution_count": 1,
   "metadata": {},
   "outputs": [],
   "source": [
    "import pandas as pd\n",
    "from tqdm import tqdm\n",
    "import json\n",
    "import os\n",
    "from rdkit import Chem\n",
    "from rdkit import RDLogger\n",
    "lg = RDLogger.logger()\n",
    "lg.setLevel(RDLogger.CRITICAL)"
   ]
  },
  {
   "cell_type": "code",
   "execution_count": 8,
   "metadata": {},
   "outputs": [],
   "source": [
    "canopus_labels = pd.read_csv('../../data/raw/canopus_diffms/labels.tsv', sep='\\t')"
   ]
  },
  {
   "cell_type": "code",
   "execution_count": null,
   "metadata": {},
   "outputs": [],
   "source": [
    "columns_drop = [\n",
    "    'dataset',\n",
    "    'name',\n",
    "    'instrument',\n",
    "    'ionization',\t\n",
    "    'formula',\t\n",
    "    'inchikey'\n",
    "]"
   ]
  },
  {
   "cell_type": "code",
   "execution_count": null,
   "metadata": {},
   "outputs": [],
   "source": [
    "canopus_labels = canopus_labels.drop(columns_drop, axis=1, errors='ignore')"
   ]
  },
  {
   "cell_type": "code",
   "execution_count": 10,
   "metadata": {},
   "outputs": [],
   "source": [
    "def read_spec_canopus(file_name, data_path):\n",
    "    \"\"\"\n",
    "    Process the JSON file for a given spec value.\n",
    "    \n",
    "    Parameters:\n",
    "    -----------\n",
    "    file_name, : str\n",
    "        The filename or identifier from the spec field\n",
    "    data_path : str\n",
    "        The directory path where the JSON files are stored\n",
    "    \n",
    "    Returns:\n",
    "    --------\n",
    "    dict or None\n",
    "        Processed data from the JSON file, or None if file not found\n",
    "    \"\"\"\n",
    "    \n",
    "    # Construct the full path to the JSON file\n",
    "    json_path = os.path.join(data_path,file_name)\n",
    "    \n",
    "    # Check if the path exists as is\n",
    "    if not os.path.exists(json_path):\n",
    "        if not json_path.endswith('.json'):\n",
    "            json_path = f\"{json_path}.json\"\n",
    "            \n",
    "        if not os.path.exists(json_path):\n",
    "            print(f\"Warning: JSON file not found for spec: {file_name}\")\n",
    "            return None\n",
    "        \n",
    "    # Read and parse the JSON file\n",
    "    try:\n",
    "        with open(json_path, 'r') as f:\n",
    "            data = json.load(f)\n",
    "            \n",
    "        return data\n",
    "        \n",
    "    except Exception as e:\n",
    "        print(f\"Error processing {json_path}: {e}\")\n",
    "        return None"
   ]
  },
  {
   "cell_type": "code",
   "execution_count": 11,
   "metadata": {},
   "outputs": [],
   "source": [
    "data_path = '../../data/raw/canopus_diffms/subformulae/subformulae_default'\n",
    "canopus_labels['extracted_spectral_info'] = canopus_labels['spec'].apply(\n",
    "    lambda spec: read_spec_canopus(spec,data_path)\n",
    ")"
   ]
  },
  {
   "cell_type": "code",
   "execution_count": null,
   "metadata": {},
   "outputs": [],
   "source": [
    "canopus_inchis = []\n",
    "for i in tqdm(range(len(canopus_labels)), desc=\"Converting CANOPUS SMILES to InChI\", leave=False):\n",
    "    \n",
    "    mol = Chem.MolFromSmiles(canopus_labels.loc[i, \"smiles\"])\n",
    "    smi = Chem.MolToSmiles(mol, isomericSmiles=False) # remove stereochemistry information\n",
    "    mol = Chem.MolFromSmiles(smi)\n",
    "    inchi = Chem.MolToInchi(mol)\n",
    "    canopus_inchis.append(inchi)\n",
    "\n",
    "canopus_labels['InChI'] = canopus_inchis"
   ]
  },
  {
   "cell_type": "code",
   "execution_count": null,
   "metadata": {},
   "outputs": [],
   "source": [
    "canopus_labels.to_csv('../../data/production_ready_data/NPLIB1_canopus.csv',index=False)"
   ]
  }
 ],
 "metadata": {
  "kernelspec": {
   "display_name": "spectrum-to-molecular-ECHCqm5f-py3.10",
   "language": "python",
   "name": "python3"
  },
  "language_info": {
   "codemirror_mode": {
    "name": "ipython",
    "version": 3
   },
   "file_extension": ".py",
   "mimetype": "text/x-python",
   "name": "python",
   "nbconvert_exporter": "python",
   "pygments_lexer": "ipython3",
   "version": "3.10.12"
  }
 },
 "nbformat": 4,
 "nbformat_minor": 2
}
