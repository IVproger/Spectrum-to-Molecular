{
 "cells": [
  {
   "cell_type": "code",
   "execution_count": 1,
   "metadata": {},
   "outputs": [],
   "source": [
    "import sys\n",
    "import os\n",
    "\n",
    "parent_dir = os.path.abspath(os.path.join('../..'))\n",
    "if parent_dir not in sys.path:\n",
    "    sys.path.append(parent_dir)"
   ]
  },
  {
   "cell_type": "code",
   "execution_count": 2,
   "metadata": {},
   "outputs": [],
   "source": [
    "import pandas as pd"
   ]
  },
  {
   "cell_type": "code",
   "execution_count": 3,
   "metadata": {},
   "outputs": [],
   "source": [
    "canopus_labels = pd.read_csv('../../data/raw/canopus_diffms/labels.tsv', sep='\\t')"
   ]
  },
  {
   "cell_type": "code",
   "execution_count": 4,
   "metadata": {},
   "outputs": [],
   "source": [
    "columns_drop = [\n",
    "    'dataset',\n",
    "    'name',\n",
    "    'instrument',\n",
    "    'ionization',\t\n",
    "    'formula',\t\n",
    "    'inchikey'\n",
    "]"
   ]
  },
  {
   "cell_type": "code",
   "execution_count": 5,
   "metadata": {},
   "outputs": [],
   "source": [
    "canopus_labels = canopus_labels.drop(columns_drop, axis=1, errors='ignore')"
   ]
  },
  {
   "cell_type": "code",
   "execution_count": 6,
   "metadata": {},
   "outputs": [],
   "source": [
    "from src.utils import extract_spectral_info"
   ]
  },
  {
   "cell_type": "code",
   "execution_count": 7,
   "metadata": {},
   "outputs": [
    {
     "name": "stderr",
     "output_type": "stream",
     "text": [
      "Extracting JSON files: 100%|██████████| 10709/10709 [00:00<00:00, 17772.83it/s]\n"
     ]
    },
    {
     "name": "stdout",
     "output_type": "stream",
     "text": [
      "Successfully processed 10709 out of 10709 files (100.00%)\n"
     ]
    }
   ],
   "source": [
    "data_path = '../../data/raw/canopus_diffms/subformulae/subformulae_default'\n",
    "new_df = extract_spectral_info(canopus_labels,'spec',data_path)"
   ]
  },
  {
   "cell_type": "code",
   "execution_count": 8,
   "metadata": {},
   "outputs": [
    {
     "data": {
      "text/html": [
       "<div>\n",
       "<style scoped>\n",
       "    .dataframe tbody tr th:only-of-type {\n",
       "        vertical-align: middle;\n",
       "    }\n",
       "\n",
       "    .dataframe tbody tr th {\n",
       "        vertical-align: top;\n",
       "    }\n",
       "\n",
       "    .dataframe thead th {\n",
       "        text-align: right;\n",
       "    }\n",
       "</style>\n",
       "<table border=\"1\" class=\"dataframe\">\n",
       "  <thead>\n",
       "    <tr style=\"text-align: right;\">\n",
       "      <th></th>\n",
       "      <th>spec</th>\n",
       "      <th>smiles</th>\n",
       "      <th>extracted_spectral_info</th>\n",
       "    </tr>\n",
       "  </thead>\n",
       "  <tbody>\n",
       "    <tr>\n",
       "      <th>0</th>\n",
       "      <td>CCMSLIB00000001563</td>\n",
       "      <td>CC(C)CC1OC(=O)C2CCCN2C(=O)C(Cc2ccccc2)NC(=O)C(...</td>\n",
       "      <td>{'cand_form': 'C41H55N5O7', 'cand_ion': '[M+H]...</td>\n",
       "    </tr>\n",
       "    <tr>\n",
       "      <th>1</th>\n",
       "      <td>CCMSLIB00000001566</td>\n",
       "      <td>CC(C)CC1OC(=O)C2CCCN2C(=O)C(Cc2ccccc2)NC(=O)C(...</td>\n",
       "      <td>{'cand_form': 'C41H55N5O7', 'cand_ion': '[M+Na...</td>\n",
       "    </tr>\n",
       "    <tr>\n",
       "      <th>2</th>\n",
       "      <td>CCMSLIB00000001568</td>\n",
       "      <td>CCCCCCCCCCCCCC(=O)NC(C)(C)C(=O)N1CC(O)CC1C(=O)...</td>\n",
       "      <td>{'cand_form': 'C43H79N7O9', 'cand_ion': '[M+Na...</td>\n",
       "    </tr>\n",
       "    <tr>\n",
       "      <th>3</th>\n",
       "      <td>CCMSLIB00000001572</td>\n",
       "      <td>CCCCCCCCCCCCCC(=O)NC(C)(C)C(=O)N1CC(O)CC1C(=O)...</td>\n",
       "      <td>{'cand_form': 'C45H83N7O9', 'cand_ion': '[M+Na...</td>\n",
       "    </tr>\n",
       "    <tr>\n",
       "      <th>4</th>\n",
       "      <td>CCMSLIB00000001574</td>\n",
       "      <td>CCC(=O)CCCCCC1NC(=O)C2CCCCN2C(=O)C(Cc2ccccc2)N...</td>\n",
       "      <td>{'cand_form': 'C28H40N4O5', 'cand_ion': '[M+H]...</td>\n",
       "    </tr>\n",
       "    <tr>\n",
       "      <th>...</th>\n",
       "      <td>...</td>\n",
       "      <td>...</td>\n",
       "      <td>...</td>\n",
       "    </tr>\n",
       "    <tr>\n",
       "      <th>10704</th>\n",
       "      <td>washington_1131</td>\n",
       "      <td>O=C1NCCc2c1[nH]c1c(Cl)cccc21</td>\n",
       "      <td>{'cand_form': 'C11H9ClN2O', 'cand_ion': '[M+H]...</td>\n",
       "    </tr>\n",
       "    <tr>\n",
       "      <th>10705</th>\n",
       "      <td>washington_1139</td>\n",
       "      <td>COc1cc(OC)c2c(c1)OC(c1ccc(O)cc1)CC2=O</td>\n",
       "      <td>{'cand_form': 'C17H16O5', 'cand_ion': '[M+H]+'...</td>\n",
       "    </tr>\n",
       "    <tr>\n",
       "      <th>10706</th>\n",
       "      <td>washington_1141</td>\n",
       "      <td>COc1cc(-c2oc3cc(O)ccc3c(=O)c2O)cc(OC)c1OC</td>\n",
       "      <td>{'cand_form': 'C18H16O7', 'cand_ion': '[M+H]+'...</td>\n",
       "    </tr>\n",
       "    <tr>\n",
       "      <th>10707</th>\n",
       "      <td>washington_1142</td>\n",
       "      <td>COc1cc(-c2oc3ccccc3c(=O)c2O)cc(OC)c1OC</td>\n",
       "      <td>{'cand_form': 'C18H16O6', 'cand_ion': '[M+H]+'...</td>\n",
       "    </tr>\n",
       "    <tr>\n",
       "      <th>10708</th>\n",
       "      <td>washington_1147</td>\n",
       "      <td>COc1cc(-c2oc3cc(O)ccc3c(=O)c2O)cc(OC)c1OC</td>\n",
       "      <td>{'cand_form': 'C18H16O7', 'cand_ion': '[M+H]+'...</td>\n",
       "    </tr>\n",
       "  </tbody>\n",
       "</table>\n",
       "<p>10709 rows × 3 columns</p>\n",
       "</div>"
      ],
      "text/plain": [
       "                     spec                                             smiles  \\\n",
       "0      CCMSLIB00000001563  CC(C)CC1OC(=O)C2CCCN2C(=O)C(Cc2ccccc2)NC(=O)C(...   \n",
       "1      CCMSLIB00000001566  CC(C)CC1OC(=O)C2CCCN2C(=O)C(Cc2ccccc2)NC(=O)C(...   \n",
       "2      CCMSLIB00000001568  CCCCCCCCCCCCCC(=O)NC(C)(C)C(=O)N1CC(O)CC1C(=O)...   \n",
       "3      CCMSLIB00000001572  CCCCCCCCCCCCCC(=O)NC(C)(C)C(=O)N1CC(O)CC1C(=O)...   \n",
       "4      CCMSLIB00000001574  CCC(=O)CCCCCC1NC(=O)C2CCCCN2C(=O)C(Cc2ccccc2)N...   \n",
       "...                   ...                                                ...   \n",
       "10704     washington_1131                       O=C1NCCc2c1[nH]c1c(Cl)cccc21   \n",
       "10705     washington_1139              COc1cc(OC)c2c(c1)OC(c1ccc(O)cc1)CC2=O   \n",
       "10706     washington_1141          COc1cc(-c2oc3cc(O)ccc3c(=O)c2O)cc(OC)c1OC   \n",
       "10707     washington_1142             COc1cc(-c2oc3ccccc3c(=O)c2O)cc(OC)c1OC   \n",
       "10708     washington_1147          COc1cc(-c2oc3cc(O)ccc3c(=O)c2O)cc(OC)c1OC   \n",
       "\n",
       "                                 extracted_spectral_info  \n",
       "0      {'cand_form': 'C41H55N5O7', 'cand_ion': '[M+H]...  \n",
       "1      {'cand_form': 'C41H55N5O7', 'cand_ion': '[M+Na...  \n",
       "2      {'cand_form': 'C43H79N7O9', 'cand_ion': '[M+Na...  \n",
       "3      {'cand_form': 'C45H83N7O9', 'cand_ion': '[M+Na...  \n",
       "4      {'cand_form': 'C28H40N4O5', 'cand_ion': '[M+H]...  \n",
       "...                                                  ...  \n",
       "10704  {'cand_form': 'C11H9ClN2O', 'cand_ion': '[M+H]...  \n",
       "10705  {'cand_form': 'C17H16O5', 'cand_ion': '[M+H]+'...  \n",
       "10706  {'cand_form': 'C18H16O7', 'cand_ion': '[M+H]+'...  \n",
       "10707  {'cand_form': 'C18H16O6', 'cand_ion': '[M+H]+'...  \n",
       "10708  {'cand_form': 'C18H16O7', 'cand_ion': '[M+H]+'...  \n",
       "\n",
       "[10709 rows x 3 columns]"
      ]
     },
     "execution_count": 8,
     "metadata": {},
     "output_type": "execute_result"
    }
   ],
   "source": [
    "new_df "
   ]
  },
  {
   "cell_type": "code",
   "execution_count": 9,
   "metadata": {},
   "outputs": [],
   "source": [
    "from src.utils import process_smiles_dataframe"
   ]
  },
  {
   "cell_type": "code",
   "execution_count": 10,
   "metadata": {},
   "outputs": [
    {
     "name": "stdout",
     "output_type": "stream",
     "text": [
      "Extracting SMILES from dataframe\n",
      "Processing 10709 SMILES strings using 128 processes...\n"
     ]
    },
    {
     "name": "stderr",
     "output_type": "stream",
     "text": [
      "Processing SMILES: 100%|██████████| 10709/10709 [00:00<00:00, 31098.71it/s]\n"
     ]
    },
    {
     "name": "stdout",
     "output_type": "stream",
     "text": [
      "Successfully processed 10709 of 10709 entries\n"
     ]
    }
   ],
   "source": [
    "updated_df = process_smiles_dataframe(new_df,'smiles')"
   ]
  },
  {
   "cell_type": "code",
   "execution_count": 11,
   "metadata": {},
   "outputs": [
    {
     "data": {
      "text/html": [
       "<div>\n",
       "<style scoped>\n",
       "    .dataframe tbody tr th:only-of-type {\n",
       "        vertical-align: middle;\n",
       "    }\n",
       "\n",
       "    .dataframe tbody tr th {\n",
       "        vertical-align: top;\n",
       "    }\n",
       "\n",
       "    .dataframe thead th {\n",
       "        text-align: right;\n",
       "    }\n",
       "</style>\n",
       "<table border=\"1\" class=\"dataframe\">\n",
       "  <thead>\n",
       "    <tr style=\"text-align: right;\">\n",
       "      <th></th>\n",
       "      <th>spec</th>\n",
       "      <th>smiles</th>\n",
       "      <th>extracted_spectral_info</th>\n",
       "      <th>InChI</th>\n",
       "      <th>Formula</th>\n",
       "    </tr>\n",
       "  </thead>\n",
       "  <tbody>\n",
       "    <tr>\n",
       "      <th>0</th>\n",
       "      <td>CCMSLIB00000001563</td>\n",
       "      <td>CC(C)CC1OC(=O)C2CCCN2C(=O)C(Cc2ccccc2)NC(=O)C(...</td>\n",
       "      <td>{'cand_form': 'C41H55N5O7', 'cand_ion': '[M+H]...</td>\n",
       "      <td>InChI=1S/C41H55N5O7/c1-26(2)22-34-37(48)42-30(...</td>\n",
       "      <td>C41H55N5O7</td>\n",
       "    </tr>\n",
       "    <tr>\n",
       "      <th>1</th>\n",
       "      <td>CCMSLIB00000001566</td>\n",
       "      <td>CC(C)CC1OC(=O)C2CCCN2C(=O)C(Cc2ccccc2)NC(=O)C(...</td>\n",
       "      <td>{'cand_form': 'C41H55N5O7', 'cand_ion': '[M+Na...</td>\n",
       "      <td>InChI=1S/C41H55N5O7/c1-26(2)22-34-37(48)42-30(...</td>\n",
       "      <td>C41H55N5O7</td>\n",
       "    </tr>\n",
       "    <tr>\n",
       "      <th>2</th>\n",
       "      <td>CCMSLIB00000001568</td>\n",
       "      <td>CCCCCCCCCCCCCC(=O)NC(C)(C)C(=O)N1CC(O)CC1C(=O)...</td>\n",
       "      <td>{'cand_form': 'C43H79N7O9', 'cand_ion': '[M+Na...</td>\n",
       "      <td>InChI=1S/C43H79N7O9/c1-9-10-11-12-13-14-15-16-...</td>\n",
       "      <td>C43H79N7O9</td>\n",
       "    </tr>\n",
       "    <tr>\n",
       "      <th>3</th>\n",
       "      <td>CCMSLIB00000001572</td>\n",
       "      <td>CCCCCCCCCCCCCC(=O)NC(C)(C)C(=O)N1CC(O)CC1C(=O)...</td>\n",
       "      <td>{'cand_form': 'C45H83N7O9', 'cand_ion': '[M+Na...</td>\n",
       "      <td>InChI=1S/C45H83N7O9/c1-10-11-12-13-14-15-16-17...</td>\n",
       "      <td>C45H83N7O9</td>\n",
       "    </tr>\n",
       "    <tr>\n",
       "      <th>4</th>\n",
       "      <td>CCMSLIB00000001574</td>\n",
       "      <td>CCC(=O)CCCCCC1NC(=O)C2CCCCN2C(=O)C(Cc2ccccc2)N...</td>\n",
       "      <td>{'cand_form': 'C28H40N4O5', 'cand_ion': '[M+H]...</td>\n",
       "      <td>InChI=1S/C28H40N4O5/c1-3-21(33)14-8-5-9-15-22-...</td>\n",
       "      <td>C28H40N4O5</td>\n",
       "    </tr>\n",
       "    <tr>\n",
       "      <th>...</th>\n",
       "      <td>...</td>\n",
       "      <td>...</td>\n",
       "      <td>...</td>\n",
       "      <td>...</td>\n",
       "      <td>...</td>\n",
       "    </tr>\n",
       "    <tr>\n",
       "      <th>10704</th>\n",
       "      <td>washington_1131</td>\n",
       "      <td>O=C1NCCc2c1[nH]c1c(Cl)cccc21</td>\n",
       "      <td>{'cand_form': 'C11H9ClN2O', 'cand_ion': '[M+H]...</td>\n",
       "      <td>InChI=1S/C11H9ClN2O/c12-8-3-1-2-6-7-4-5-13-11(...</td>\n",
       "      <td>C11H9ClN2O</td>\n",
       "    </tr>\n",
       "    <tr>\n",
       "      <th>10705</th>\n",
       "      <td>washington_1139</td>\n",
       "      <td>COc1cc(OC)c2c(c1)OC(c1ccc(O)cc1)CC2=O</td>\n",
       "      <td>{'cand_form': 'C17H16O5', 'cand_ion': '[M+H]+'...</td>\n",
       "      <td>InChI=1S/C17H16O5/c1-20-12-7-15(21-2)17-13(19)...</td>\n",
       "      <td>C17H16O5</td>\n",
       "    </tr>\n",
       "    <tr>\n",
       "      <th>10706</th>\n",
       "      <td>washington_1141</td>\n",
       "      <td>COc1cc(-c2oc3cc(O)ccc3c(=O)c2O)cc(OC)c1OC</td>\n",
       "      <td>{'cand_form': 'C18H16O7', 'cand_ion': '[M+H]+'...</td>\n",
       "      <td>InChI=1S/C18H16O7/c1-22-13-6-9(7-14(23-2)18(13...</td>\n",
       "      <td>C18H16O7</td>\n",
       "    </tr>\n",
       "    <tr>\n",
       "      <th>10707</th>\n",
       "      <td>washington_1142</td>\n",
       "      <td>COc1cc(-c2oc3ccccc3c(=O)c2O)cc(OC)c1OC</td>\n",
       "      <td>{'cand_form': 'C18H16O6', 'cand_ion': '[M+H]+'...</td>\n",
       "      <td>InChI=1S/C18H16O6/c1-21-13-8-10(9-14(22-2)18(1...</td>\n",
       "      <td>C18H16O6</td>\n",
       "    </tr>\n",
       "    <tr>\n",
       "      <th>10708</th>\n",
       "      <td>washington_1147</td>\n",
       "      <td>COc1cc(-c2oc3cc(O)ccc3c(=O)c2O)cc(OC)c1OC</td>\n",
       "      <td>{'cand_form': 'C18H16O7', 'cand_ion': '[M+H]+'...</td>\n",
       "      <td>InChI=1S/C18H16O7/c1-22-13-6-9(7-14(23-2)18(13...</td>\n",
       "      <td>C18H16O7</td>\n",
       "    </tr>\n",
       "  </tbody>\n",
       "</table>\n",
       "<p>10709 rows × 5 columns</p>\n",
       "</div>"
      ],
      "text/plain": [
       "                     spec                                             smiles  \\\n",
       "0      CCMSLIB00000001563  CC(C)CC1OC(=O)C2CCCN2C(=O)C(Cc2ccccc2)NC(=O)C(...   \n",
       "1      CCMSLIB00000001566  CC(C)CC1OC(=O)C2CCCN2C(=O)C(Cc2ccccc2)NC(=O)C(...   \n",
       "2      CCMSLIB00000001568  CCCCCCCCCCCCCC(=O)NC(C)(C)C(=O)N1CC(O)CC1C(=O)...   \n",
       "3      CCMSLIB00000001572  CCCCCCCCCCCCCC(=O)NC(C)(C)C(=O)N1CC(O)CC1C(=O)...   \n",
       "4      CCMSLIB00000001574  CCC(=O)CCCCCC1NC(=O)C2CCCCN2C(=O)C(Cc2ccccc2)N...   \n",
       "...                   ...                                                ...   \n",
       "10704     washington_1131                       O=C1NCCc2c1[nH]c1c(Cl)cccc21   \n",
       "10705     washington_1139              COc1cc(OC)c2c(c1)OC(c1ccc(O)cc1)CC2=O   \n",
       "10706     washington_1141          COc1cc(-c2oc3cc(O)ccc3c(=O)c2O)cc(OC)c1OC   \n",
       "10707     washington_1142             COc1cc(-c2oc3ccccc3c(=O)c2O)cc(OC)c1OC   \n",
       "10708     washington_1147          COc1cc(-c2oc3cc(O)ccc3c(=O)c2O)cc(OC)c1OC   \n",
       "\n",
       "                                 extracted_spectral_info  \\\n",
       "0      {'cand_form': 'C41H55N5O7', 'cand_ion': '[M+H]...   \n",
       "1      {'cand_form': 'C41H55N5O7', 'cand_ion': '[M+Na...   \n",
       "2      {'cand_form': 'C43H79N7O9', 'cand_ion': '[M+Na...   \n",
       "3      {'cand_form': 'C45H83N7O9', 'cand_ion': '[M+Na...   \n",
       "4      {'cand_form': 'C28H40N4O5', 'cand_ion': '[M+H]...   \n",
       "...                                                  ...   \n",
       "10704  {'cand_form': 'C11H9ClN2O', 'cand_ion': '[M+H]...   \n",
       "10705  {'cand_form': 'C17H16O5', 'cand_ion': '[M+H]+'...   \n",
       "10706  {'cand_form': 'C18H16O7', 'cand_ion': '[M+H]+'...   \n",
       "10707  {'cand_form': 'C18H16O6', 'cand_ion': '[M+H]+'...   \n",
       "10708  {'cand_form': 'C18H16O7', 'cand_ion': '[M+H]+'...   \n",
       "\n",
       "                                                   InChI     Formula  \n",
       "0      InChI=1S/C41H55N5O7/c1-26(2)22-34-37(48)42-30(...  C41H55N5O7  \n",
       "1      InChI=1S/C41H55N5O7/c1-26(2)22-34-37(48)42-30(...  C41H55N5O7  \n",
       "2      InChI=1S/C43H79N7O9/c1-9-10-11-12-13-14-15-16-...  C43H79N7O9  \n",
       "3      InChI=1S/C45H83N7O9/c1-10-11-12-13-14-15-16-17...  C45H83N7O9  \n",
       "4      InChI=1S/C28H40N4O5/c1-3-21(33)14-8-5-9-15-22-...  C28H40N4O5  \n",
       "...                                                  ...         ...  \n",
       "10704  InChI=1S/C11H9ClN2O/c12-8-3-1-2-6-7-4-5-13-11(...  C11H9ClN2O  \n",
       "10705  InChI=1S/C17H16O5/c1-20-12-7-15(21-2)17-13(19)...    C17H16O5  \n",
       "10706  InChI=1S/C18H16O7/c1-22-13-6-9(7-14(23-2)18(13...    C18H16O7  \n",
       "10707  InChI=1S/C18H16O6/c1-21-13-8-10(9-14(22-2)18(1...    C18H16O6  \n",
       "10708  InChI=1S/C18H16O7/c1-22-13-6-9(7-14(23-2)18(13...    C18H16O7  \n",
       "\n",
       "[10709 rows x 5 columns]"
      ]
     },
     "execution_count": 11,
     "metadata": {},
     "output_type": "execute_result"
    }
   ],
   "source": [
    "updated_df"
   ]
  },
  {
   "cell_type": "code",
   "execution_count": 13,
   "metadata": {},
   "outputs": [],
   "source": [
    "updated_df.to_csv('../../data/production_ready_data/spectrs/NPLIB1_canopus.csv',index=False)"
   ]
  }
 ],
 "metadata": {
  "kernelspec": {
   "display_name": "spectrum-to-molecular-ECHCqm5f-py3.10",
   "language": "python",
   "name": "python3"
  },
  "language_info": {
   "codemirror_mode": {
    "name": "ipython",
    "version": 3
   },
   "file_extension": ".py",
   "mimetype": "text/x-python",
   "name": "python",
   "nbconvert_exporter": "python",
   "pygments_lexer": "ipython3",
   "version": "3.10.12"
  }
 },
 "nbformat": 4,
 "nbformat_minor": 2
}
