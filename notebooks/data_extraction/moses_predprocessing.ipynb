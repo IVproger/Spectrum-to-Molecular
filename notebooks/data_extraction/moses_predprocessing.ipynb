{
 "cells": [
  {
   "cell_type": "code",
   "execution_count": 1,
   "metadata": {},
   "outputs": [],
   "source": [
    "import sys\n",
    "import os\n",
    "\n",
    "parent_dir = os.path.abspath(os.path.join('../..'))\n",
    "if parent_dir not in sys.path:\n",
    "    sys.path.append(parent_dir)"
   ]
  },
  {
   "cell_type": "code",
   "execution_count": 4,
   "metadata": {},
   "outputs": [],
   "source": [
    "from src.utils import process_smiles_dataframe\n",
    "import pandas as pd"
   ]
  },
  {
   "cell_type": "code",
   "execution_count": 5,
   "metadata": {},
   "outputs": [],
   "source": [
    "moses_df = pd.read_csv('../../data/raw/diffms_spectrum_db/raw/moses.csv')"
   ]
  },
  {
   "cell_type": "code",
   "execution_count": 6,
   "metadata": {},
   "outputs": [],
   "source": [
    "moses_df = moses_df.drop('SPLIT', axis=1)"
   ]
  },
  {
   "cell_type": "code",
   "execution_count": 7,
   "metadata": {},
   "outputs": [
    {
     "data": {
      "text/html": [
       "<div>\n",
       "<style scoped>\n",
       "    .dataframe tbody tr th:only-of-type {\n",
       "        vertical-align: middle;\n",
       "    }\n",
       "\n",
       "    .dataframe tbody tr th {\n",
       "        vertical-align: top;\n",
       "    }\n",
       "\n",
       "    .dataframe thead th {\n",
       "        text-align: right;\n",
       "    }\n",
       "</style>\n",
       "<table border=\"1\" class=\"dataframe\">\n",
       "  <thead>\n",
       "    <tr style=\"text-align: right;\">\n",
       "      <th></th>\n",
       "      <th>SMILES</th>\n",
       "    </tr>\n",
       "  </thead>\n",
       "  <tbody>\n",
       "    <tr>\n",
       "      <th>0</th>\n",
       "      <td>CCCS(=O)c1ccc2[nH]c(=NC(=O)OC)[nH]c2c1</td>\n",
       "    </tr>\n",
       "    <tr>\n",
       "      <th>1</th>\n",
       "      <td>CC(C)(C)C(=O)C(Oc1ccc(Cl)cc1)n1ccnc1</td>\n",
       "    </tr>\n",
       "    <tr>\n",
       "      <th>2</th>\n",
       "      <td>CC1C2CCC(C2)C1CN(CCO)C(=O)c1ccc(Cl)cc1</td>\n",
       "    </tr>\n",
       "    <tr>\n",
       "      <th>3</th>\n",
       "      <td>Cc1c(Cl)cccc1Nc1ncccc1C(=O)OCC(O)CO</td>\n",
       "    </tr>\n",
       "    <tr>\n",
       "      <th>4</th>\n",
       "      <td>Cn1cnc2c1c(=O)n(CC(O)CO)c(=O)n2C</td>\n",
       "    </tr>\n",
       "    <tr>\n",
       "      <th>...</th>\n",
       "      <td>...</td>\n",
       "    </tr>\n",
       "    <tr>\n",
       "      <th>1936957</th>\n",
       "      <td>N#Cc1c(Br)cnc(N)c1Br</td>\n",
       "    </tr>\n",
       "    <tr>\n",
       "      <th>1936958</th>\n",
       "      <td>COC(=O)c1cc(CNC(=O)OC(C)(C)C)ccc1C</td>\n",
       "    </tr>\n",
       "    <tr>\n",
       "      <th>1936959</th>\n",
       "      <td>NC(=O)c1ccc2ccccc2c1Br</td>\n",
       "    </tr>\n",
       "    <tr>\n",
       "      <th>1936960</th>\n",
       "      <td>CC(=O)Nc1cccc(-c2nc3cc(C)ccc3[nH]c2=O)c1</td>\n",
       "    </tr>\n",
       "    <tr>\n",
       "      <th>1936961</th>\n",
       "      <td>CC(NC(=O)OC(C)(C)C)c1nc(CO)nn1Cc1ccccc1</td>\n",
       "    </tr>\n",
       "  </tbody>\n",
       "</table>\n",
       "<p>1936962 rows × 1 columns</p>\n",
       "</div>"
      ],
      "text/plain": [
       "                                           SMILES\n",
       "0          CCCS(=O)c1ccc2[nH]c(=NC(=O)OC)[nH]c2c1\n",
       "1            CC(C)(C)C(=O)C(Oc1ccc(Cl)cc1)n1ccnc1\n",
       "2          CC1C2CCC(C2)C1CN(CCO)C(=O)c1ccc(Cl)cc1\n",
       "3             Cc1c(Cl)cccc1Nc1ncccc1C(=O)OCC(O)CO\n",
       "4                Cn1cnc2c1c(=O)n(CC(O)CO)c(=O)n2C\n",
       "...                                           ...\n",
       "1936957                      N#Cc1c(Br)cnc(N)c1Br\n",
       "1936958        COC(=O)c1cc(CNC(=O)OC(C)(C)C)ccc1C\n",
       "1936959                    NC(=O)c1ccc2ccccc2c1Br\n",
       "1936960  CC(=O)Nc1cccc(-c2nc3cc(C)ccc3[nH]c2=O)c1\n",
       "1936961   CC(NC(=O)OC(C)(C)C)c1nc(CO)nn1Cc1ccccc1\n",
       "\n",
       "[1936962 rows x 1 columns]"
      ]
     },
     "execution_count": 7,
     "metadata": {},
     "output_type": "execute_result"
    }
   ],
   "source": [
    "moses_df "
   ]
  },
  {
   "cell_type": "code",
   "execution_count": 8,
   "metadata": {},
   "outputs": [
    {
     "name": "stdout",
     "output_type": "stream",
     "text": [
      "Extracting SMILES from dataframe\n",
      "Processing 1936962 SMILES strings using 128 processes...\n"
     ]
    },
    {
     "name": "stderr",
     "output_type": "stream",
     "text": [
      "Processing SMILES: 100%|██████████| 1936962/1936962 [00:55<00:00, 34805.04it/s]\n"
     ]
    },
    {
     "name": "stdout",
     "output_type": "stream",
     "text": [
      "Successfully processed 1936962 of 1936962 entries\n"
     ]
    }
   ],
   "source": [
    "new_df = process_smiles_dataframe(moses_df)"
   ]
  },
  {
   "cell_type": "code",
   "execution_count": 9,
   "metadata": {},
   "outputs": [
    {
     "data": {
      "text/html": [
       "<div>\n",
       "<style scoped>\n",
       "    .dataframe tbody tr th:only-of-type {\n",
       "        vertical-align: middle;\n",
       "    }\n",
       "\n",
       "    .dataframe tbody tr th {\n",
       "        vertical-align: top;\n",
       "    }\n",
       "\n",
       "    .dataframe thead th {\n",
       "        text-align: right;\n",
       "    }\n",
       "</style>\n",
       "<table border=\"1\" class=\"dataframe\">\n",
       "  <thead>\n",
       "    <tr style=\"text-align: right;\">\n",
       "      <th></th>\n",
       "      <th>SMILES</th>\n",
       "      <th>InChI</th>\n",
       "      <th>Formula</th>\n",
       "    </tr>\n",
       "  </thead>\n",
       "  <tbody>\n",
       "    <tr>\n",
       "      <th>0</th>\n",
       "      <td>CCCS(=O)c1ccc2[nH]c(=NC(=O)OC)[nH]c2c1</td>\n",
       "      <td>InChI=1S/C12H15N3O3S/c1-3-6-19(17)8-4-5-9-10(7...</td>\n",
       "      <td>C12H15N3O3S</td>\n",
       "    </tr>\n",
       "    <tr>\n",
       "      <th>1</th>\n",
       "      <td>CC(C)(C)C(=O)C(Oc1ccc(Cl)cc1)n1ccnc1</td>\n",
       "      <td>InChI=1S/C15H17ClN2O2/c1-15(2,3)13(19)14(18-9-...</td>\n",
       "      <td>C15H17ClN2O2</td>\n",
       "    </tr>\n",
       "    <tr>\n",
       "      <th>2</th>\n",
       "      <td>CC1C2CCC(C2)C1CN(CCO)C(=O)c1ccc(Cl)cc1</td>\n",
       "      <td>InChI=1S/C18H24ClNO2/c1-12-14-2-3-15(10-14)17(...</td>\n",
       "      <td>C18H24ClNO2</td>\n",
       "    </tr>\n",
       "    <tr>\n",
       "      <th>3</th>\n",
       "      <td>Cc1c(Cl)cccc1Nc1ncccc1C(=O)OCC(O)CO</td>\n",
       "      <td>InChI=1S/C16H17ClN2O4/c1-10-13(17)5-2-6-14(10)...</td>\n",
       "      <td>C16H17ClN2O4</td>\n",
       "    </tr>\n",
       "    <tr>\n",
       "      <th>4</th>\n",
       "      <td>Cn1cnc2c1c(=O)n(CC(O)CO)c(=O)n2C</td>\n",
       "      <td>InChI=1S/C10H14N4O4/c1-12-5-11-8-7(12)9(17)14(...</td>\n",
       "      <td>C10H14N4O4</td>\n",
       "    </tr>\n",
       "    <tr>\n",
       "      <th>...</th>\n",
       "      <td>...</td>\n",
       "      <td>...</td>\n",
       "      <td>...</td>\n",
       "    </tr>\n",
       "    <tr>\n",
       "      <th>1936957</th>\n",
       "      <td>N#Cc1c(Br)cnc(N)c1Br</td>\n",
       "      <td>InChI=1S/C6H3Br2N3/c7-4-2-11-6(10)5(8)3(4)1-9/...</td>\n",
       "      <td>C6H3Br2N3</td>\n",
       "    </tr>\n",
       "    <tr>\n",
       "      <th>1936958</th>\n",
       "      <td>COC(=O)c1cc(CNC(=O)OC(C)(C)C)ccc1C</td>\n",
       "      <td>InChI=1S/C15H21NO4/c1-10-6-7-11(8-12(10)13(17)...</td>\n",
       "      <td>C15H21NO4</td>\n",
       "    </tr>\n",
       "    <tr>\n",
       "      <th>1936959</th>\n",
       "      <td>NC(=O)c1ccc2ccccc2c1Br</td>\n",
       "      <td>InChI=1S/C11H8BrNO/c12-10-8-4-2-1-3-7(8)5-6-9(...</td>\n",
       "      <td>C11H8BrNO</td>\n",
       "    </tr>\n",
       "    <tr>\n",
       "      <th>1936960</th>\n",
       "      <td>CC(=O)Nc1cccc(-c2nc3cc(C)ccc3[nH]c2=O)c1</td>\n",
       "      <td>InChI=1S/C17H15N3O2/c1-10-6-7-14-15(8-10)19-16...</td>\n",
       "      <td>C17H15N3O2</td>\n",
       "    </tr>\n",
       "    <tr>\n",
       "      <th>1936961</th>\n",
       "      <td>CC(NC(=O)OC(C)(C)C)c1nc(CO)nn1Cc1ccccc1</td>\n",
       "      <td>InChI=1S/C17H24N4O3/c1-12(18-16(23)24-17(2,3)4...</td>\n",
       "      <td>C17H24N4O3</td>\n",
       "    </tr>\n",
       "  </tbody>\n",
       "</table>\n",
       "<p>1936962 rows × 3 columns</p>\n",
       "</div>"
      ],
      "text/plain": [
       "                                           SMILES  \\\n",
       "0          CCCS(=O)c1ccc2[nH]c(=NC(=O)OC)[nH]c2c1   \n",
       "1            CC(C)(C)C(=O)C(Oc1ccc(Cl)cc1)n1ccnc1   \n",
       "2          CC1C2CCC(C2)C1CN(CCO)C(=O)c1ccc(Cl)cc1   \n",
       "3             Cc1c(Cl)cccc1Nc1ncccc1C(=O)OCC(O)CO   \n",
       "4                Cn1cnc2c1c(=O)n(CC(O)CO)c(=O)n2C   \n",
       "...                                           ...   \n",
       "1936957                      N#Cc1c(Br)cnc(N)c1Br   \n",
       "1936958        COC(=O)c1cc(CNC(=O)OC(C)(C)C)ccc1C   \n",
       "1936959                    NC(=O)c1ccc2ccccc2c1Br   \n",
       "1936960  CC(=O)Nc1cccc(-c2nc3cc(C)ccc3[nH]c2=O)c1   \n",
       "1936961   CC(NC(=O)OC(C)(C)C)c1nc(CO)nn1Cc1ccccc1   \n",
       "\n",
       "                                                     InChI       Formula  \n",
       "0        InChI=1S/C12H15N3O3S/c1-3-6-19(17)8-4-5-9-10(7...   C12H15N3O3S  \n",
       "1        InChI=1S/C15H17ClN2O2/c1-15(2,3)13(19)14(18-9-...  C15H17ClN2O2  \n",
       "2        InChI=1S/C18H24ClNO2/c1-12-14-2-3-15(10-14)17(...   C18H24ClNO2  \n",
       "3        InChI=1S/C16H17ClN2O4/c1-10-13(17)5-2-6-14(10)...  C16H17ClN2O4  \n",
       "4        InChI=1S/C10H14N4O4/c1-12-5-11-8-7(12)9(17)14(...    C10H14N4O4  \n",
       "...                                                    ...           ...  \n",
       "1936957  InChI=1S/C6H3Br2N3/c7-4-2-11-6(10)5(8)3(4)1-9/...     C6H3Br2N3  \n",
       "1936958  InChI=1S/C15H21NO4/c1-10-6-7-11(8-12(10)13(17)...     C15H21NO4  \n",
       "1936959  InChI=1S/C11H8BrNO/c12-10-8-4-2-1-3-7(8)5-6-9(...     C11H8BrNO  \n",
       "1936960  InChI=1S/C17H15N3O2/c1-10-6-7-14-15(8-10)19-16...    C17H15N3O2  \n",
       "1936961  InChI=1S/C17H24N4O3/c1-12(18-16(23)24-17(2,3)4...    C17H24N4O3  \n",
       "\n",
       "[1936962 rows x 3 columns]"
      ]
     },
     "execution_count": 9,
     "metadata": {},
     "output_type": "execute_result"
    }
   ],
   "source": [
    "new_df"
   ]
  },
  {
   "cell_type": "code",
   "execution_count": 20,
   "metadata": {},
   "outputs": [],
   "source": [
    "new_df.to_csv('../../data/production_ready_data/mols/moses.csv',index=False)"
   ]
  }
 ],
 "metadata": {
  "kernelspec": {
   "display_name": "spectrum-to-molecular-ECHCqm5f-py3.10",
   "language": "python",
   "name": "python3"
  },
  "language_info": {
   "codemirror_mode": {
    "name": "ipython",
    "version": 3
   },
   "file_extension": ".py",
   "mimetype": "text/x-python",
   "name": "python",
   "nbconvert_exporter": "python",
   "pygments_lexer": "ipython3",
   "version": "3.10.12"
  }
 },
 "nbformat": 4,
 "nbformat_minor": 2
}
