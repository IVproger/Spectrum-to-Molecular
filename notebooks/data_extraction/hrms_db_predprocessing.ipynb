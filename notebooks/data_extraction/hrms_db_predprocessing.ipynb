{
 "cells": [
  {
   "cell_type": "code",
   "execution_count": 39,
   "metadata": {},
   "outputs": [],
   "source": [
    "import sys\n",
    "import os\n",
    "from tqdm import tqdm\n",
    "import pandas as pd\n",
    "import numpy as np\n",
    "\n",
    "parent_dir = os.path.abspath(os.path.join('../..'))\n",
    "if parent_dir not in sys.path:\n",
    "    sys.path.append(parent_dir)"
   ]
  },
  {
   "cell_type": "code",
   "execution_count": null,
   "metadata": {},
   "outputs": [],
   "source": [
    "from pathlib import Path\n",
    "from typing import List\n",
    "def get_mzxml_filepaths(dir_path: str) -> List[str]:\n",
    "    \n",
    "    dir = Path(dir_path)\n",
    "    file_paths = [str(file) for file in dir.glob('*mzXML')]\n",
    "    \n",
    "    return file_paths"
   ]
  },
  {
   "cell_type": "markdown",
   "metadata": {},
   "source": [
    "### Spectral_db_xmls"
   ]
  },
  {
   "cell_type": "code",
   "execution_count": null,
   "metadata": {},
   "outputs": [],
   "source": [
    "paths = get_mzxml_filepaths('../../data/raw/hrms_db_sample/spectral_db_xmls')"
   ]
  },
  {
   "cell_type": "code",
   "execution_count": null,
   "metadata": {},
   "outputs": [],
   "source": [
    "from src.utils import process_mzxml_files"
   ]
  },
  {
   "cell_type": "code",
   "execution_count": null,
   "metadata": {},
   "outputs": [],
   "source": [
    "df = process_mzxml_files(paths)"
   ]
  },
  {
   "cell_type": "code",
   "execution_count": null,
   "metadata": {},
   "outputs": [],
   "source": [
    "df.to_csv('../../data/production_ready_data/hrms_df_sample_specta_extracted.csv', index=False)"
   ]
  },
  {
   "cell_type": "code",
   "execution_count": null,
   "metadata": {},
   "outputs": [],
   "source": [
    "df"
   ]
  },
  {
   "cell_type": "code",
   "execution_count": null,
   "metadata": {},
   "outputs": [],
   "source": [
    "raw_extracted_spectra_info = []\n",
    "for row in tqdm(df.iterrows(), desc=\"Spectra info extraction\"):\n",
    "    for spectra in tqdm(row[1]['spectra'], desc=\"Row processing\"):\n",
    "        raw_extracted_spectra_info.append(spectra)"
   ]
  },
  {
   "cell_type": "code",
   "execution_count": null,
   "metadata": {},
   "outputs": [],
   "source": [
    "print(f\"Total number of row spectra: {len(raw_extracted_spectra_info)}\")"
   ]
  },
  {
   "cell_type": "code",
   "execution_count": null,
   "metadata": {},
   "outputs": [],
   "source": [
    "test_df = pd.DataFrame(raw_extracted_spectra_info)"
   ]
  },
  {
   "cell_type": "code",
   "execution_count": null,
   "metadata": {},
   "outputs": [],
   "source": [
    "columns_drop = [\n",
    "    'scan_number',\n",
    "    'retention_time',\n",
    "    'ms_level',\n",
    "    'precursor_mz'\n",
    "]\n",
    "test_df = test_df.drop(columns_drop, axis=1,errors='ignore')"
   ]
  },
  {
   "cell_type": "code",
   "execution_count": null,
   "metadata": {},
   "outputs": [],
   "source": [
    "test_df.to_csv('../../data/production_ready_data/test/hrms_df_sample_raw.csv',index=False)"
   ]
  },
  {
   "cell_type": "markdown",
   "metadata": {},
   "source": [
    "### Vinyl_spectra"
   ]
  },
  {
   "cell_type": "code",
   "execution_count": null,
   "metadata": {},
   "outputs": [],
   "source": [
    "paths = get_mzxml_filepaths('../../data/raw/hrms_db_sample/vinyl_spectra')"
   ]
  },
  {
   "cell_type": "code",
   "execution_count": null,
   "metadata": {},
   "outputs": [],
   "source": [
    "df = process_mzxml_files(paths)"
   ]
  },
  {
   "cell_type": "code",
   "execution_count": null,
   "metadata": {},
   "outputs": [],
   "source": [
    "raw_extracted_spectra_info = []\n",
    "for row in tqdm(df.iterrows(), desc=\"Spectra info extraction\"):\n",
    "    for spectra in tqdm(row[1]['spectra'], desc=\"Row processing\"):\n",
    "        raw_extracted_spectra_info.append(spectra)"
   ]
  },
  {
   "cell_type": "code",
   "execution_count": null,
   "metadata": {},
   "outputs": [],
   "source": [
    "test_df = pd.DataFrame(raw_extracted_spectra_info)"
   ]
  },
  {
   "cell_type": "code",
   "execution_count": null,
   "metadata": {},
   "outputs": [],
   "source": [
    "columns_drop = [\n",
    "    'scan_number',\n",
    "    'retention_time',\n",
    "    'ms_level',\n",
    "    'precursor_mz'\n",
    "]\n",
    "test_df = test_df.drop(columns_drop, axis=1,errors='ignore')"
   ]
  },
  {
   "cell_type": "code",
   "execution_count": null,
   "metadata": {},
   "outputs": [],
   "source": [
    "test_df_part_0 = pd.read_csv('../../data/production_ready_data/test/hrms_df_sample_raw.csv')"
   ]
  },
  {
   "cell_type": "code",
   "execution_count": null,
   "metadata": {},
   "outputs": [],
   "source": [
    "test_df_part_0 "
   ]
  },
  {
   "cell_type": "code",
   "execution_count": null,
   "metadata": {},
   "outputs": [],
   "source": [
    "test_df"
   ]
  },
  {
   "cell_type": "code",
   "execution_count": null,
   "metadata": {},
   "outputs": [],
   "source": [
    "result_df = pd.concat([test_df_part_0, test_df],ignore_index=True)"
   ]
  },
  {
   "cell_type": "code",
   "execution_count": 45,
   "metadata": {},
   "outputs": [
    {
     "data": {
      "text/html": [
       "<div>\n",
       "<style scoped>\n",
       "    .dataframe tbody tr th:only-of-type {\n",
       "        vertical-align: middle;\n",
       "    }\n",
       "\n",
       "    .dataframe tbody tr th {\n",
       "        vertical-align: top;\n",
       "    }\n",
       "\n",
       "    .dataframe thead th {\n",
       "        text-align: right;\n",
       "    }\n",
       "</style>\n",
       "<table border=\"1\" class=\"dataframe\">\n",
       "  <thead>\n",
       "    <tr style=\"text-align: right;\">\n",
       "      <th></th>\n",
       "      <th>m/z_array</th>\n",
       "      <th>intensity_array</th>\n",
       "    </tr>\n",
       "  </thead>\n",
       "  <tbody>\n",
       "    <tr>\n",
       "      <th>0</th>\n",
       "      <td>[  44.97299379   44.97485003   44.97670631 ......</td>\n",
       "      <td>[0. 0. 0. ... 0. 0. 0.]</td>\n",
       "    </tr>\n",
       "    <tr>\n",
       "      <th>1</th>\n",
       "      <td>[  44.97299387   44.97485011   44.97670639 ......</td>\n",
       "      <td>[0. 0. 0. ... 0. 0. 0.]</td>\n",
       "    </tr>\n",
       "    <tr>\n",
       "      <th>2</th>\n",
       "      <td>[  44.97299387   44.97485011   44.97670639 ......</td>\n",
       "      <td>[0. 0. 0. ... 0. 0. 0.]</td>\n",
       "    </tr>\n",
       "    <tr>\n",
       "      <th>3</th>\n",
       "      <td>[  44.97299322   44.97484947   44.97670575 ......</td>\n",
       "      <td>[0. 0. 0. ... 0. 0. 0.]</td>\n",
       "    </tr>\n",
       "    <tr>\n",
       "      <th>4</th>\n",
       "      <td>[  44.97299322   44.97484947   44.97670575 ......</td>\n",
       "      <td>[0. 0. 0. ... 0. 0. 0.]</td>\n",
       "    </tr>\n",
       "    <tr>\n",
       "      <th>...</th>\n",
       "      <td>...</td>\n",
       "      <td>...</td>\n",
       "    </tr>\n",
       "    <tr>\n",
       "      <th>4972</th>\n",
       "      <td>[153.57228867527624, 153.5723069411731, 153.57...</td>\n",
       "      <td>[9371.453125, 24352.67578125, 46222.875, 68108...</td>\n",
       "    </tr>\n",
       "    <tr>\n",
       "      <th>4973</th>\n",
       "      <td>[153.56166406032872, 153.56167321328883, 153.5...</td>\n",
       "      <td>[180930.375, 185572.75, 196301.203125, 205487....</td>\n",
       "    </tr>\n",
       "    <tr>\n",
       "      <th>4974</th>\n",
       "      <td>[46.068288349342595, 46.06829109522729, 46.068...</td>\n",
       "      <td>[12831.28125, 87252.1796875, 159637.625, 20744...</td>\n",
       "    </tr>\n",
       "    <tr>\n",
       "      <th>4975</th>\n",
       "      <td>[153.56072049806048, 153.5607296509658, 153.56...</td>\n",
       "      <td>[58876.125, 57722.87890625, 52862.515625, 4650...</td>\n",
       "    </tr>\n",
       "    <tr>\n",
       "      <th>4976</th>\n",
       "      <td>[46.068288349342595, 46.06829109522729, 46.068...</td>\n",
       "      <td>[107869.734375, 90191.6484375, 55314.76953125,...</td>\n",
       "    </tr>\n",
       "  </tbody>\n",
       "</table>\n",
       "<p>4977 rows × 2 columns</p>\n",
       "</div>"
      ],
      "text/plain": [
       "                                              m/z_array  \\\n",
       "0     [  44.97299379   44.97485003   44.97670631 ......   \n",
       "1     [  44.97299387   44.97485011   44.97670639 ......   \n",
       "2     [  44.97299387   44.97485011   44.97670639 ......   \n",
       "3     [  44.97299322   44.97484947   44.97670575 ......   \n",
       "4     [  44.97299322   44.97484947   44.97670575 ......   \n",
       "...                                                 ...   \n",
       "4972  [153.57228867527624, 153.5723069411731, 153.57...   \n",
       "4973  [153.56166406032872, 153.56167321328883, 153.5...   \n",
       "4974  [46.068288349342595, 46.06829109522729, 46.068...   \n",
       "4975  [153.56072049806048, 153.5607296509658, 153.56...   \n",
       "4976  [46.068288349342595, 46.06829109522729, 46.068...   \n",
       "\n",
       "                                        intensity_array  \n",
       "0                               [0. 0. 0. ... 0. 0. 0.]  \n",
       "1                               [0. 0. 0. ... 0. 0. 0.]  \n",
       "2                               [0. 0. 0. ... 0. 0. 0.]  \n",
       "3                               [0. 0. 0. ... 0. 0. 0.]  \n",
       "4                               [0. 0. 0. ... 0. 0. 0.]  \n",
       "...                                                 ...  \n",
       "4972  [9371.453125, 24352.67578125, 46222.875, 68108...  \n",
       "4973  [180930.375, 185572.75, 196301.203125, 205487....  \n",
       "4974  [12831.28125, 87252.1796875, 159637.625, 20744...  \n",
       "4975  [58876.125, 57722.87890625, 52862.515625, 4650...  \n",
       "4976  [107869.734375, 90191.6484375, 55314.76953125,...  \n",
       "\n",
       "[4977 rows x 2 columns]"
      ]
     },
     "execution_count": 45,
     "metadata": {},
     "output_type": "execute_result"
    }
   ],
   "source": [
    "result_df"
   ]
  },
  {
   "cell_type": "code",
   "execution_count": 47,
   "metadata": {},
   "outputs": [],
   "source": [
    "import hashlib\n",
    "\n",
    "# Create hash representations directly from the string representations\n",
    "result_df['combined_hash'] = result_df.apply(\n",
    "    lambda row: hashlib.md5((str(row['m/z_array']) + str(row['intensity_array'])).encode()).hexdigest(),\n",
    "    axis=1\n",
    ")"
   ]
  },
  {
   "cell_type": "code",
   "execution_count": 48,
   "metadata": {},
   "outputs": [],
   "source": [
    "# Remove duplicates based on the combined hash\n",
    "result_df = result_df.drop_duplicates(subset=['combined_hash'])\n",
    "\n",
    "# Remove the hash column\n",
    "result_df = result_df.drop(columns=['combined_hash'])"
   ]
  },
  {
   "cell_type": "code",
   "execution_count": 50,
   "metadata": {},
   "outputs": [],
   "source": [
    "result_df.to_csv('../../data/production_ready_data/test/hrms_df_sample_raw.csv',index=False)"
   ]
  }
 ],
 "metadata": {
  "kernelspec": {
   "display_name": "spectrum-to-molecular-ECHCqm5f-py3.10",
   "language": "python",
   "name": "python3"
  },
  "language_info": {
   "codemirror_mode": {
    "name": "ipython",
    "version": 3
   },
   "file_extension": ".py",
   "mimetype": "text/x-python",
   "name": "python",
   "nbconvert_exporter": "python",
   "pygments_lexer": "ipython3",
   "version": "3.10.12"
  }
 },
 "nbformat": 4,
 "nbformat_minor": 2
}
