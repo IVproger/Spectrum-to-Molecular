{
 "cells": [
  {
   "cell_type": "code",
   "execution_count": 1,
   "metadata": {},
   "outputs": [],
   "source": [
    "import random\n",
    "from collections import Counter\n",
    "\n",
    "import pandas as pd\n",
    "from tqdm import tqdm\n",
    "\n",
    "from rdkit import Chem\n",
    "from rdkit import RDLogger\n",
    "from rdkit.Chem import Descriptors\n",
    "\n",
    "random.seed(42)\n",
    "\n",
    "lg = RDLogger.logger()\n",
    "lg.setLevel(RDLogger.CRITICAL)\n",
    "\n",
    "def read_from_sdf(path):\n",
    "    res = []\n",
    "    app = False\n",
    "    with open(path, 'r') as f:\n",
    "        for line in tqdm(f.readlines(), desc='Loading SDF structures', leave=False):\n",
    "            if app:\n",
    "                res.append(line.strip())\n",
    "                app = False\n",
    "            if line.startswith('> <SMILES>'):\n",
    "                app = True\n",
    "\n",
    "    return res\n",
    "\n",
    "def filter(mol):\n",
    "    try:\n",
    "        smi = Chem.MolToSmiles(mol, isomericSmiles=False) # remove stereochemistry information\n",
    "        mol = Chem.MolFromSmiles(smi)\n",
    "\n",
    "        if \".\" in smi:\n",
    "            return False\n",
    "        \n",
    "        if Descriptors.MolWt(mol) >= 1500:\n",
    "            return False\n",
    "        \n",
    "        for atom in mol.GetAtoms():\n",
    "            if atom.GetFormalCharge() != 0:\n",
    "                return False\n",
    "    except:\n",
    "        return False\n",
    "    \n",
    "    return True\n",
    "\n",
    "FILTER_ATOMS = {'C', 'N', 'S', 'O', 'F', 'Cl', 'H', 'P'}\n",
    "\n",
    "def filter_with_atom_types(mol):\n",
    "    try:\n",
    "        smi = Chem.MolToSmiles(mol, isomericSmiles=False) # remove stereochemistry information\n",
    "        mol = Chem.MolFromSmiles(smi)\n",
    "\n",
    "        if \".\" in smi:\n",
    "            return False\n",
    "        \n",
    "        if Descriptors.MolWt(mol) >= 1500:\n",
    "            return False\n",
    "        \n",
    "        for atom in mol.GetAtoms():\n",
    "            if atom.GetFormalCharge() != 0:\n",
    "                return False\n",
    "            if atom.GetSymbol() not in FILTER_ATOMS:\n",
    "                return False\n",
    "    except:\n",
    "        return False\n",
    "    \n",
    "    return True"
   ]
  },
  {
   "cell_type": "markdown",
   "metadata": {},
   "source": [
    "#### Build CANOPUS Dataset"
   ]
  },
  {
   "cell_type": "code",
   "execution_count": 2,
   "metadata": {},
   "outputs": [
    {
     "name": "stderr",
     "output_type": "stream",
     "text": [
      "Converting SMILES to InChI:   0%|          | 0/8030 [00:00<?, ?it/s]"
     ]
    },
    {
     "name": "stderr",
     "output_type": "stream",
     "text": [
      "Converting SMILES to InChI: 100%|██████████| 8030/8030 [00:11<00:00, 723.23it/s]\n"
     ]
    }
   ],
   "source": [
    "canopus_split = pd.read_csv('../data/canopus/splits/canopus_hplus_100_0.tsv', sep='\\t')\n",
    "\n",
    "canopus_labels = pd.read_csv('../data/canopus/labels.tsv', sep='\\t')\n",
    "canopus_labels[\"name\"] = canopus_labels[\"spec\"]\n",
    "canopus_labels = canopus_labels[[\"name\", \"smiles\"]].reset_index(drop=True)\n",
    "\n",
    "canopus_labels = canopus_labels.merge(canopus_split, on=\"name\")\n",
    "\n",
    "canopus_train_inchis = []\n",
    "canopus_test_inchis = []\n",
    "canopus_val_inchis = []\n",
    "\n",
    "for i in tqdm(range(len(canopus_labels)), desc=\"Converting SMILES to InChI\"):\n",
    "    \n",
    "    mol = Chem.MolFromSmiles(canopus_labels.loc[i, \"smiles\"])\n",
    "    smi = Chem.MolToSmiles(mol, isomericSmiles=False) # remove stereochemistry information\n",
    "    mol = Chem.MolFromSmiles(smi)\n",
    "    inchi = Chem.MolToInchi(mol)\n",
    "\n",
    "    if canopus_labels.loc[i, \"split\"] == \"train\":\n",
    "        if filter(mol):\n",
    "            canopus_train_inchis.append(inchi)\n",
    "    elif canopus_labels.loc[i, \"split\"] == \"test\":\n",
    "        canopus_test_inchis.append(inchi)\n",
    "    elif canopus_labels.loc[i, \"split\"] == \"val\":\n",
    "        canopus_val_inchis.append(inchi)\n",
    "\n",
    "canopus_train_df = pd.DataFrame(set(canopus_train_inchis), columns=[\"inchi\"])\n",
    "canopus_train_df.to_csv(\"../data/fp2mol/canopus/preprocessed/canopus_train.csv\", index=False)\n",
    "\n",
    "canopus_test_df = pd.DataFrame(canopus_test_inchis, columns=[\"inchi\"])\n",
    "canopus_test_df.to_csv(\"../data/fp2mol/canopus/preprocessed/canopus_test.csv\", index=False)\n",
    "\n",
    "canopus_val_df = pd.DataFrame(canopus_val_inchis, columns=[\"inchi\"])\n",
    "canopus_val_df.to_csv(\"../data/fp2mol/canopus/preprocessed/canopus_val.csv\", index=False)\n",
    "\n",
    "excluded_inchis = set(canopus_test_inchis + canopus_val_inchis)"
   ]
  },
  {
   "cell_type": "markdown",
   "metadata": {},
   "source": [
    "#### Build MassSpecGym Dataset"
   ]
  },
  {
   "cell_type": "code",
   "execution_count": 3,
   "metadata": {},
   "outputs": [
    {
     "name": "stderr",
     "output_type": "stream",
     "text": [
      "Converting SMILES to InChI: 100%|██████████| 231104/231104 [05:08<00:00, 749.35it/s] \n"
     ]
    }
   ],
   "source": [
    "msg_split = pd.read_csv('../data/msg/split.tsv', sep='\\t')\n",
    "\n",
    "msg_labels = pd.read_csv('../data/msg/labels.tsv', sep='\\t')\n",
    "msg_labels[\"name\"] = msg_labels[\"spec\"]\n",
    "msg_labels = msg_labels[[\"name\", \"smiles\"]].reset_index(drop=True)\n",
    "\n",
    "msg_labels = msg_labels.merge(msg_split, on=\"name\")\n",
    "\n",
    "msg_train_inchis = []\n",
    "msg_test_inchis = []\n",
    "msg_val_inchis = []\n",
    "\n",
    "for i in tqdm(range(len(msg_labels)), desc=\"Converting SMILES to InChI\"):\n",
    "    \n",
    "    mol = Chem.MolFromSmiles(msg_labels.loc[i, \"smiles\"])\n",
    "    smi = Chem.MolToSmiles(mol, isomericSmiles=False) # remove stereochemistry information\n",
    "    mol = Chem.MolFromSmiles(smi)\n",
    "    inchi = Chem.MolToInchi(mol)\n",
    "\n",
    "    if msg_labels.loc[i, \"split\"] == \"train\":\n",
    "        if filter(mol):\n",
    "            msg_train_inchis.append(inchi)\n",
    "    elif msg_labels.loc[i, \"split\"] == \"test\":\n",
    "        msg_test_inchis.append(inchi)\n",
    "    elif msg_labels.loc[i, \"split\"] == \"val\":\n",
    "        msg_val_inchis.append(inchi)\n",
    "\n",
    "msg_train_df = pd.DataFrame(set(msg_train_inchis), columns=[\"inchi\"])\n",
    "msg_train_df.to_csv(\"../data/fp2mol/msg/preprocessed/msg_train.csv\", index=False)\n",
    "\n",
    "msg_test_df = pd.DataFrame(msg_test_inchis, columns=[\"inchi\"])\n",
    "msg_test_df.to_csv(\"../data/fp2mol/msg/preprocessed/msg_test.csv\", index=False)\n",
    "\n",
    "msg_val_df = pd.DataFrame(msg_val_inchis, columns=[\"inchi\"])\n",
    "msg_val_df.to_csv(\"../data/fp2mol/msg/preprocessed/msg_val.csv\", index=False)\n",
    "\n",
    "excluded_inchis.update(msg_test_inchis + msg_val_inchis)"
   ]
  },
  {
   "cell_type": "markdown",
   "metadata": {},
   "source": [
    "#### Build HMDB Dataset"
   ]
  },
  {
   "cell_type": "code",
   "execution_count": 4,
   "metadata": {},
   "outputs": [
    {
     "name": "stderr",
     "output_type": "stream",
     "text": [
      "                                                                                        \r"
     ]
    }
   ],
   "source": [
    "hmdb_set = set()\n",
    "raw_smiles = read_from_sdf('../data/fp2mol/raw/structures.sdf')\n",
    "for smi in tqdm(raw_smiles, desc='Cleaning HMDB structures', leave=False):\n",
    "    try:\n",
    "        mol = Chem.MolFromSmiles(smi)\n",
    "        smi = Chem.MolToSmiles(mol, isomericSmiles=False) # remove stereochemistry information\n",
    "        mol = Chem.MolFromSmiles(smi)\n",
    "        if filter_with_atom_types(mol):\n",
    "            hmdb_set.add(Chem.MolToInchi(mol))\n",
    "    except:\n",
    "        pass\n",
    "\n",
    "hmdb_inchis = list(hmdb_set)\n",
    "random.shuffle(hmdb_inchis)\n",
    "\n",
    "hmdb_train_inchis = hmdb_inchis[:int(0.95 * len(hmdb_inchis))]\n",
    "hmdb_val_inchis = hmdb_inchis[int(0.95 * len(hmdb_inchis)):]\n",
    "\n",
    "hmdb_train_inchis = [inchi for inchi in hmdb_train_inchis if inchi not in excluded_inchis]\n",
    "\n",
    "hmdb_train_df = pd.DataFrame(hmdb_train_inchis, columns=[\"inchi\"])\n",
    "hmdb_train_df.to_csv(\"../data/fp2mol/hmdb/preprocessed/hmdb_train.csv\", index=False)\n",
    "\n",
    "hmdb_val_df = pd.DataFrame(hmdb_val_inchis, columns=[\"inchi\"])\n",
    "hmdb_val_df.to_csv(\"../data/fp2mol/hmdb/preprocessed/hmdb_val.csv\", index=False)"
   ]
  },
  {
   "cell_type": "markdown",
   "metadata": {},
   "source": [
    "#### Build DSS Dataset"
   ]
  },
  {
   "cell_type": "code",
   "execution_count": 5,
   "metadata": {},
   "outputs": [
    {
     "name": "stderr",
     "output_type": "stream",
     "text": [
      "                                                                                       \r"
     ]
    }
   ],
   "source": [
    "dss_set_raw = set()\n",
    "for i in tqdm(range(1, 14), desc='Loading DSSTox structures', leave=False):\n",
    "    df = pd.read_excel(f'../data/fp2mol/raw/DSSToxDump{i}.xlsx')\n",
    "    dss_set_raw.update(df[df['SMILES'].notnull()]['SMILES'])\n",
    "\n",
    "dss_set = set()\n",
    "for smi in tqdm(dss_set_raw, desc='Cleaning DSSTox structures', leave=False):\n",
    "    try:\n",
    "        mol = Chem.MolFromSmiles(smi)\n",
    "        smi = Chem.MolToSmiles(mol, isomericSmiles=False) # remove stereochemistry information\n",
    "        mol = Chem.MolFromSmiles(smi)\n",
    "        if filter_with_atom_types(mol):\n",
    "            dss_set.add(Chem.MolToInchi(mol))\n",
    "    except:\n",
    "        pass\n",
    "\n",
    "dss_inchis = list(dss_set)\n",
    "random.shuffle(dss_inchis)\n",
    "\n",
    "dss_train_inchis = dss_inchis[:int(0.95 * len(dss_inchis))]\n",
    "dss_val_inchis = dss_inchis[int(0.95 * len(dss_inchis)):]\n",
    "\n",
    "dss_train_inchis = [inchi for inchi in dss_train_inchis if inchi not in excluded_inchis]\n",
    "\n",
    "dss_train_df = pd.DataFrame(dss_train_inchis, columns=[\"inchi\"])\n",
    "dss_train_df.to_csv(\"../data/fp2mol/dss/preprocessed/dss_train.csv\", index=False)\n",
    "\n",
    "dss_val_df = pd.DataFrame(dss_val_inchis, columns=[\"inchi\"])\n",
    "dss_val_df.to_csv(\"../data/fp2mol/dss/preprocessed/dss_val.csv\", index=False)"
   ]
  },
  {
   "cell_type": "markdown",
   "metadata": {},
   "source": [
    "#### Build COCONUT Dataset"
   ]
  },
  {
   "cell_type": "code",
   "execution_count": 7,
   "metadata": {},
   "outputs": [
    {
     "name": "stderr",
     "output_type": "stream",
     "text": [
      "/tmp/ipykernel_3632685/3641065372.py:1: DtypeWarning: Columns (38,40,42) have mixed types. Specify dtype option on import or set low_memory=False.\n",
      "  coconut_df = pd.read_csv('../data/fp2mol/raw/coconut_complete-10-2024.csv')\n",
      "                                                                                     \r"
     ]
    }
   ],
   "source": [
    "coconut_df = pd.read_csv('../data/fp2mol/raw/coconut_complete-10-2024.csv')\n",
    "\n",
    "coconut_set_raw = set(coconut_df[\"canonical_smiles\"])\n",
    "\n",
    "coconut_set = set()\n",
    "for smi in tqdm(coconut_set_raw, desc='Cleaning COCONUT structures', leave=False):\n",
    "    try:\n",
    "        mol = Chem.MolFromSmiles(smi)\n",
    "        smi = Chem.MolToSmiles(mol, isomericSmiles=False) # remove stereochemistry information\n",
    "        mol = Chem.MolFromSmiles(smi)\n",
    "        if filter_with_atom_types(mol):\n",
    "            coconut_set.add(Chem.MolToInchi(mol))\n",
    "    except:\n",
    "        pass\n",
    "\n",
    "coconut_inchis = list(coconut_set)\n",
    "random.shuffle(coconut_inchis)\n",
    "\n",
    "coconut_train_inchis = coconut_inchis[:int(0.95 * len(coconut_inchis))]\n",
    "coconut_val_inchis = coconut_inchis[int(0.95 * len(coconut_inchis)):]\n",
    "\n",
    "coconut_train_inchis = [inchi for inchi in coconut_train_inchis if inchi not in excluded_inchis]\n",
    "\n",
    "coconut_train_df = pd.DataFrame(coconut_train_inchis, columns=[\"inchi\"])\n",
    "coconut_train_df.to_csv(\"../data/fp2mol/coconut/preprocessed/coconut_train.csv\", index=False)\n",
    "\n",
    "coconut_val_df = pd.DataFrame(coconut_val_inchis, columns=[\"inchi\"])\n",
    "coconut_val_df.to_csv(\"../data/fp2mol/coconut/preprocessed/coconut_val.csv\", index=False)"
   ]
  },
  {
   "cell_type": "markdown",
   "metadata": {},
   "source": [
    "#### Build MOSES Dataset"
   ]
  },
  {
   "cell_type": "code",
   "execution_count": 8,
   "metadata": {},
   "outputs": [
    {
     "name": "stderr",
     "output_type": "stream",
     "text": [
      "                                                                                       \r"
     ]
    }
   ],
   "source": [
    "moses_df = pd.read_csv('../data/fp2mol/raw/moses_complete.csv')\n",
    "\n",
    "moses_set_raw = set(moses_df[\"SMILES\"])\n",
    "\n",
    "moses_set = set()\n",
    "for smi in tqdm(moses_set_raw, desc='Cleaning MOSES structures', leave=False):\n",
    "    try:\n",
    "        mol = Chem.MolFromSmiles(smi)\n",
    "        smi = Chem.MolToSmiles(mol, isomericSmiles=False) # remove stereochemistry information\n",
    "        mol = Chem.MolFromSmiles(smi)\n",
    "        if filter_with_atom_types(mol):\n",
    "            moses_set.add(Chem.MolToInchi(mol))\n",
    "    except:\n",
    "        pass\n",
    "\n",
    "moses_inchis = list(moses_set)\n",
    "random.shuffle(moses_inchis)\n",
    "\n",
    "moses_train_inchis = moses_inchis[:int(0.95 * len(moses_inchis))]\n",
    "moses_val_inchis = moses_inchis[int(0.95 * len(moses_inchis)):]\n",
    "\n",
    "moses_train_inchis = [inchi for inchi in moses_train_inchis if inchi not in excluded_inchis]\n",
    "\n",
    "moses_train_df = pd.DataFrame(moses_train_inchis, columns=[\"inchi\"])\n",
    "moses_train_df.to_csv(\"../data/fp2mol/moses/preprocessed/moses_train.csv\", index=False)\n",
    "\n",
    "moses_val_df = pd.DataFrame(moses_val_inchis, columns=[\"inchi\"])\n",
    "moses_val_df.to_csv(\"../data/fp2mol/moses/preprocessed/moses_val.csv\", index=False)"
   ]
  },
  {
   "cell_type": "markdown",
   "metadata": {},
   "source": [
    "#### Build Combined Dataset"
   ]
  },
  {
   "cell_type": "code",
   "execution_count": null,
   "metadata": {},
   "outputs": [],
   "source": [
    "combined_inchis = hmdb_inchis + dss_inchis + coconut_inchis + moses_inchis\n",
    "combined_inchis = list(set(combined_inchis))\n",
    "random.shuffle(combined_inchis)\n",
    "\n",
    "combined_train_inchis = combined_inchis[:int(0.95 * len(combined_inchis))]\n",
    "combined_val_inchis = combined_inchis[int(0.95 * len(combined_inchis)):]\n",
    "combined_train_inchis = [inchi for inchi in combined_train_inchis if inchi not in excluded_inchis]\n",
    "\n",
    "combined_train_df = pd.DataFrame(combined_train_inchis, columns=[\"inchi\"])\n",
    "combined_train_df.to_csv(\"../data/fp2mol/combined/preprocessed/combined_train.csv\", index=False)\n",
    "\n",
    "combined_val_df = pd.DataFrame(combined_val_inchis, columns=[\"inchi\"])\n",
    "combined_val_df.to_csv(\"../data/fp2mol/combined/preprocessed/combined_val.csv\", index=False)"
   ]
  }
 ],
 "metadata": {
  "kernelspec": {
   "display_name": "diffms",
   "language": "python",
   "name": "python3"
  },
  "language_info": {
   "codemirror_mode": {
    "name": "ipython",
    "version": 3
   },
   "file_extension": ".py",
   "mimetype": "text/x-python",
   "name": "python",
   "nbconvert_exporter": "python",
   "pygments_lexer": "ipython3",
   "version": "3.9.21"
  }
 },
 "nbformat": 4,
 "nbformat_minor": 2
}
